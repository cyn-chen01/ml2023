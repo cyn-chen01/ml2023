{
  "nbformat": 4,
  "nbformat_minor": 0,
  "metadata": {
    "colab": {
      "provenance": []
    },
    "kernelspec": {
      "name": "python3",
      "display_name": "Python 3"
    },
    "language_info": {
      "name": "python"
    }
  },
  "cells": [
    {
      "cell_type": "markdown",
      "source": [
        "**Part 2: Classification on red and white wine characteristics**"
      ],
      "metadata": {
        "id": "_skd8ntuueOq"
      }
    },
    {
      "cell_type": "code",
      "execution_count": null,
      "metadata": {
        "id": "LxqmgYAvuV2a"
      },
      "outputs": [],
      "source": [
        "import pandas as pd\n",
        "\n",
        "red_wine_url = \"https://archive.ics.uci.edu/ml/machine-learning-databases/wine-quality/winequality-red.csv\"\n",
        "white_wine_url = \"https://archive.ics.uci.edu/ml/machine-learning-databases/wine-quality/winequality-white.csv\"\n",
        "\n",
        "separator = ';'\n",
        "\n",
        "red_wine_df = pd.read_csv(red_wine_url, sep=separator)\n",
        "white_wine_df = pd.read_csv(white_wine_url, sep=separator)\n",
        "\n",
        "red_wine_df.head()\n"
      ]
    },
    {
      "cell_type": "code",
      "source": [
        "white_wine_df.head()"
      ],
      "metadata": {
        "id": "rw6vKRCsvF2L"
      },
      "execution_count": null,
      "outputs": []
    },
    {
      "cell_type": "code",
      "source": [
        "red_wine_df['winetype']=1\n",
        "white_wine_df['winetype']=0\n",
        "df = pd.concat([red_wine_df, white_wine_df], ignore_index=True)\n",
        "\n",
        "df.head()"
      ],
      "metadata": {
        "colab": {
          "base_uri": "https://localhost:8080/",
          "height": 224
        },
        "id": "k7oJvj9kvywL",
        "outputId": "87ae279b-a1a1-419d-dfdf-fa4a337487b7"
      },
      "execution_count": null,
      "outputs": [
        {
          "output_type": "execute_result",
          "data": {
            "text/plain": [
              "   fixed acidity  volatile acidity  citric acid  residual sugar  chlorides  \\\n",
              "0            7.4              0.70         0.00             1.9      0.076   \n",
              "1            7.8              0.88         0.00             2.6      0.098   \n",
              "2            7.8              0.76         0.04             2.3      0.092   \n",
              "3           11.2              0.28         0.56             1.9      0.075   \n",
              "4            7.4              0.70         0.00             1.9      0.076   \n",
              "\n",
              "   free sulfur dioxide  total sulfur dioxide  density    pH  sulphates  \\\n",
              "0                 11.0                  34.0   0.9978  3.51       0.56   \n",
              "1                 25.0                  67.0   0.9968  3.20       0.68   \n",
              "2                 15.0                  54.0   0.9970  3.26       0.65   \n",
              "3                 17.0                  60.0   0.9980  3.16       0.58   \n",
              "4                 11.0                  34.0   0.9978  3.51       0.56   \n",
              "\n",
              "   alcohol  quality  winetype  \n",
              "0      9.4        5         1  \n",
              "1      9.8        5         1  \n",
              "2      9.8        5         1  \n",
              "3      9.8        6         1  \n",
              "4      9.4        5         1  "
            ],
            "text/html": [
              "\n",
              "  <div id=\"df-c5b6d563-a1e9-46e9-abac-a31342484e74\" class=\"colab-df-container\">\n",
              "    <div>\n",
              "<style scoped>\n",
              "    .dataframe tbody tr th:only-of-type {\n",
              "        vertical-align: middle;\n",
              "    }\n",
              "\n",
              "    .dataframe tbody tr th {\n",
              "        vertical-align: top;\n",
              "    }\n",
              "\n",
              "    .dataframe thead th {\n",
              "        text-align: right;\n",
              "    }\n",
              "</style>\n",
              "<table border=\"1\" class=\"dataframe\">\n",
              "  <thead>\n",
              "    <tr style=\"text-align: right;\">\n",
              "      <th></th>\n",
              "      <th>fixed acidity</th>\n",
              "      <th>volatile acidity</th>\n",
              "      <th>citric acid</th>\n",
              "      <th>residual sugar</th>\n",
              "      <th>chlorides</th>\n",
              "      <th>free sulfur dioxide</th>\n",
              "      <th>total sulfur dioxide</th>\n",
              "      <th>density</th>\n",
              "      <th>pH</th>\n",
              "      <th>sulphates</th>\n",
              "      <th>alcohol</th>\n",
              "      <th>quality</th>\n",
              "      <th>winetype</th>\n",
              "    </tr>\n",
              "  </thead>\n",
              "  <tbody>\n",
              "    <tr>\n",
              "      <th>0</th>\n",
              "      <td>7.4</td>\n",
              "      <td>0.70</td>\n",
              "      <td>0.00</td>\n",
              "      <td>1.9</td>\n",
              "      <td>0.076</td>\n",
              "      <td>11.0</td>\n",
              "      <td>34.0</td>\n",
              "      <td>0.9978</td>\n",
              "      <td>3.51</td>\n",
              "      <td>0.56</td>\n",
              "      <td>9.4</td>\n",
              "      <td>5</td>\n",
              "      <td>1</td>\n",
              "    </tr>\n",
              "    <tr>\n",
              "      <th>1</th>\n",
              "      <td>7.8</td>\n",
              "      <td>0.88</td>\n",
              "      <td>0.00</td>\n",
              "      <td>2.6</td>\n",
              "      <td>0.098</td>\n",
              "      <td>25.0</td>\n",
              "      <td>67.0</td>\n",
              "      <td>0.9968</td>\n",
              "      <td>3.20</td>\n",
              "      <td>0.68</td>\n",
              "      <td>9.8</td>\n",
              "      <td>5</td>\n",
              "      <td>1</td>\n",
              "    </tr>\n",
              "    <tr>\n",
              "      <th>2</th>\n",
              "      <td>7.8</td>\n",
              "      <td>0.76</td>\n",
              "      <td>0.04</td>\n",
              "      <td>2.3</td>\n",
              "      <td>0.092</td>\n",
              "      <td>15.0</td>\n",
              "      <td>54.0</td>\n",
              "      <td>0.9970</td>\n",
              "      <td>3.26</td>\n",
              "      <td>0.65</td>\n",
              "      <td>9.8</td>\n",
              "      <td>5</td>\n",
              "      <td>1</td>\n",
              "    </tr>\n",
              "    <tr>\n",
              "      <th>3</th>\n",
              "      <td>11.2</td>\n",
              "      <td>0.28</td>\n",
              "      <td>0.56</td>\n",
              "      <td>1.9</td>\n",
              "      <td>0.075</td>\n",
              "      <td>17.0</td>\n",
              "      <td>60.0</td>\n",
              "      <td>0.9980</td>\n",
              "      <td>3.16</td>\n",
              "      <td>0.58</td>\n",
              "      <td>9.8</td>\n",
              "      <td>6</td>\n",
              "      <td>1</td>\n",
              "    </tr>\n",
              "    <tr>\n",
              "      <th>4</th>\n",
              "      <td>7.4</td>\n",
              "      <td>0.70</td>\n",
              "      <td>0.00</td>\n",
              "      <td>1.9</td>\n",
              "      <td>0.076</td>\n",
              "      <td>11.0</td>\n",
              "      <td>34.0</td>\n",
              "      <td>0.9978</td>\n",
              "      <td>3.51</td>\n",
              "      <td>0.56</td>\n",
              "      <td>9.4</td>\n",
              "      <td>5</td>\n",
              "      <td>1</td>\n",
              "    </tr>\n",
              "  </tbody>\n",
              "</table>\n",
              "</div>\n",
              "    <div class=\"colab-df-buttons\">\n",
              "\n",
              "  <div class=\"colab-df-container\">\n",
              "    <button class=\"colab-df-convert\" onclick=\"convertToInteractive('df-c5b6d563-a1e9-46e9-abac-a31342484e74')\"\n",
              "            title=\"Convert this dataframe to an interactive table.\"\n",
              "            style=\"display:none;\">\n",
              "\n",
              "  <svg xmlns=\"http://www.w3.org/2000/svg\" height=\"24px\" viewBox=\"0 -960 960 960\">\n",
              "    <path d=\"M120-120v-720h720v720H120Zm60-500h600v-160H180v160Zm220 220h160v-160H400v160Zm0 220h160v-160H400v160ZM180-400h160v-160H180v160Zm440 0h160v-160H620v160ZM180-180h160v-160H180v160Zm440 0h160v-160H620v160Z\"/>\n",
              "  </svg>\n",
              "    </button>\n",
              "\n",
              "  <style>\n",
              "    .colab-df-container {\n",
              "      display:flex;\n",
              "      gap: 12px;\n",
              "    }\n",
              "\n",
              "    .colab-df-convert {\n",
              "      background-color: #E8F0FE;\n",
              "      border: none;\n",
              "      border-radius: 50%;\n",
              "      cursor: pointer;\n",
              "      display: none;\n",
              "      fill: #1967D2;\n",
              "      height: 32px;\n",
              "      padding: 0 0 0 0;\n",
              "      width: 32px;\n",
              "    }\n",
              "\n",
              "    .colab-df-convert:hover {\n",
              "      background-color: #E2EBFA;\n",
              "      box-shadow: 0px 1px 2px rgba(60, 64, 67, 0.3), 0px 1px 3px 1px rgba(60, 64, 67, 0.15);\n",
              "      fill: #174EA6;\n",
              "    }\n",
              "\n",
              "    .colab-df-buttons div {\n",
              "      margin-bottom: 4px;\n",
              "    }\n",
              "\n",
              "    [theme=dark] .colab-df-convert {\n",
              "      background-color: #3B4455;\n",
              "      fill: #D2E3FC;\n",
              "    }\n",
              "\n",
              "    [theme=dark] .colab-df-convert:hover {\n",
              "      background-color: #434B5C;\n",
              "      box-shadow: 0px 1px 3px 1px rgba(0, 0, 0, 0.15);\n",
              "      filter: drop-shadow(0px 1px 2px rgba(0, 0, 0, 0.3));\n",
              "      fill: #FFFFFF;\n",
              "    }\n",
              "  </style>\n",
              "\n",
              "    <script>\n",
              "      const buttonEl =\n",
              "        document.querySelector('#df-c5b6d563-a1e9-46e9-abac-a31342484e74 button.colab-df-convert');\n",
              "      buttonEl.style.display =\n",
              "        google.colab.kernel.accessAllowed ? 'block' : 'none';\n",
              "\n",
              "      async function convertToInteractive(key) {\n",
              "        const element = document.querySelector('#df-c5b6d563-a1e9-46e9-abac-a31342484e74');\n",
              "        const dataTable =\n",
              "          await google.colab.kernel.invokeFunction('convertToInteractive',\n",
              "                                                    [key], {});\n",
              "        if (!dataTable) return;\n",
              "\n",
              "        const docLinkHtml = 'Like what you see? Visit the ' +\n",
              "          '<a target=\"_blank\" href=https://colab.research.google.com/notebooks/data_table.ipynb>data table notebook</a>'\n",
              "          + ' to learn more about interactive tables.';\n",
              "        element.innerHTML = '';\n",
              "        dataTable['output_type'] = 'display_data';\n",
              "        await google.colab.output.renderOutput(dataTable, element);\n",
              "        const docLink = document.createElement('div');\n",
              "        docLink.innerHTML = docLinkHtml;\n",
              "        element.appendChild(docLink);\n",
              "      }\n",
              "    </script>\n",
              "  </div>\n",
              "\n",
              "\n",
              "<div id=\"df-05a316c4-8dd2-46ea-9e06-059c860e8544\">\n",
              "  <button class=\"colab-df-quickchart\" onclick=\"quickchart('df-05a316c4-8dd2-46ea-9e06-059c860e8544')\"\n",
              "            title=\"Suggest charts.\"\n",
              "            style=\"display:none;\">\n",
              "\n",
              "<svg xmlns=\"http://www.w3.org/2000/svg\" height=\"24px\"viewBox=\"0 0 24 24\"\n",
              "     width=\"24px\">\n",
              "    <g>\n",
              "        <path d=\"M19 3H5c-1.1 0-2 .9-2 2v14c0 1.1.9 2 2 2h14c1.1 0 2-.9 2-2V5c0-1.1-.9-2-2-2zM9 17H7v-7h2v7zm4 0h-2V7h2v10zm4 0h-2v-4h2v4z\"/>\n",
              "    </g>\n",
              "</svg>\n",
              "  </button>\n",
              "\n",
              "<style>\n",
              "  .colab-df-quickchart {\n",
              "      --bg-color: #E8F0FE;\n",
              "      --fill-color: #1967D2;\n",
              "      --hover-bg-color: #E2EBFA;\n",
              "      --hover-fill-color: #174EA6;\n",
              "      --disabled-fill-color: #AAA;\n",
              "      --disabled-bg-color: #DDD;\n",
              "  }\n",
              "\n",
              "  [theme=dark] .colab-df-quickchart {\n",
              "      --bg-color: #3B4455;\n",
              "      --fill-color: #D2E3FC;\n",
              "      --hover-bg-color: #434B5C;\n",
              "      --hover-fill-color: #FFFFFF;\n",
              "      --disabled-bg-color: #3B4455;\n",
              "      --disabled-fill-color: #666;\n",
              "  }\n",
              "\n",
              "  .colab-df-quickchart {\n",
              "    background-color: var(--bg-color);\n",
              "    border: none;\n",
              "    border-radius: 50%;\n",
              "    cursor: pointer;\n",
              "    display: none;\n",
              "    fill: var(--fill-color);\n",
              "    height: 32px;\n",
              "    padding: 0;\n",
              "    width: 32px;\n",
              "  }\n",
              "\n",
              "  .colab-df-quickchart:hover {\n",
              "    background-color: var(--hover-bg-color);\n",
              "    box-shadow: 0 1px 2px rgba(60, 64, 67, 0.3), 0 1px 3px 1px rgba(60, 64, 67, 0.15);\n",
              "    fill: var(--button-hover-fill-color);\n",
              "  }\n",
              "\n",
              "  .colab-df-quickchart-complete:disabled,\n",
              "  .colab-df-quickchart-complete:disabled:hover {\n",
              "    background-color: var(--disabled-bg-color);\n",
              "    fill: var(--disabled-fill-color);\n",
              "    box-shadow: none;\n",
              "  }\n",
              "\n",
              "  .colab-df-spinner {\n",
              "    border: 2px solid var(--fill-color);\n",
              "    border-color: transparent;\n",
              "    border-bottom-color: var(--fill-color);\n",
              "    animation:\n",
              "      spin 1s steps(1) infinite;\n",
              "  }\n",
              "\n",
              "  @keyframes spin {\n",
              "    0% {\n",
              "      border-color: transparent;\n",
              "      border-bottom-color: var(--fill-color);\n",
              "      border-left-color: var(--fill-color);\n",
              "    }\n",
              "    20% {\n",
              "      border-color: transparent;\n",
              "      border-left-color: var(--fill-color);\n",
              "      border-top-color: var(--fill-color);\n",
              "    }\n",
              "    30% {\n",
              "      border-color: transparent;\n",
              "      border-left-color: var(--fill-color);\n",
              "      border-top-color: var(--fill-color);\n",
              "      border-right-color: var(--fill-color);\n",
              "    }\n",
              "    40% {\n",
              "      border-color: transparent;\n",
              "      border-right-color: var(--fill-color);\n",
              "      border-top-color: var(--fill-color);\n",
              "    }\n",
              "    60% {\n",
              "      border-color: transparent;\n",
              "      border-right-color: var(--fill-color);\n",
              "    }\n",
              "    80% {\n",
              "      border-color: transparent;\n",
              "      border-right-color: var(--fill-color);\n",
              "      border-bottom-color: var(--fill-color);\n",
              "    }\n",
              "    90% {\n",
              "      border-color: transparent;\n",
              "      border-bottom-color: var(--fill-color);\n",
              "    }\n",
              "  }\n",
              "</style>\n",
              "\n",
              "  <script>\n",
              "    async function quickchart(key) {\n",
              "      const quickchartButtonEl =\n",
              "        document.querySelector('#' + key + ' button');\n",
              "      quickchartButtonEl.disabled = true;  // To prevent multiple clicks.\n",
              "      quickchartButtonEl.classList.add('colab-df-spinner');\n",
              "      try {\n",
              "        const charts = await google.colab.kernel.invokeFunction(\n",
              "            'suggestCharts', [key], {});\n",
              "      } catch (error) {\n",
              "        console.error('Error during call to suggestCharts:', error);\n",
              "      }\n",
              "      quickchartButtonEl.classList.remove('colab-df-spinner');\n",
              "      quickchartButtonEl.classList.add('colab-df-quickchart-complete');\n",
              "    }\n",
              "    (() => {\n",
              "      let quickchartButtonEl =\n",
              "        document.querySelector('#df-05a316c4-8dd2-46ea-9e06-059c860e8544 button');\n",
              "      quickchartButtonEl.style.display =\n",
              "        google.colab.kernel.accessAllowed ? 'block' : 'none';\n",
              "    })();\n",
              "  </script>\n",
              "</div>\n",
              "    </div>\n",
              "  </div>\n"
            ]
          },
          "metadata": {},
          "execution_count": 17
        }
      ]
    },
    {
      "cell_type": "markdown",
      "source": [
        "2.1 Visualize the univariate distribution of the target feature and each of the three explanatory variables that you think are likely to have a relationship with the target feature.   "
      ],
      "metadata": {
        "id": "Awnizw4UxvN8"
      }
    },
    {
      "cell_type": "code",
      "source": [
        "import matplotlib as mpl\n",
        "from matplotlib import pyplot as plt\n",
        "df['winetype'].hist()\n",
        "plt.xlabel('White or Red')\n",
        "plt.ylabel('Number of Wine')"
      ],
      "metadata": {
        "colab": {
          "base_uri": "https://localhost:8080/",
          "height": 467
        },
        "id": "i70GCXZVxwxs",
        "outputId": "e68a882f-c78a-405a-c9d6-249f928e6bfb"
      },
      "execution_count": null,
      "outputs": [
        {
          "output_type": "execute_result",
          "data": {
            "text/plain": [
              "Text(0, 0.5, 'Number of Wine')"
            ]
          },
          "metadata": {},
          "execution_count": 20
        },
        {
          "output_type": "display_data",
          "data": {
            "text/plain": [
              "<Figure size 640x480 with 1 Axes>"
            ],
            "image/png": "[encoded data removed]"
          },
          "metadata": {}
        }
      ]
    },
    {
      "cell_type": "code",
      "source": [
        "df['volatile acidity'].hist()\n",
        "plt.xlabel('volatile acidity')\n",
        "plt.ylabel('Number of Wine')"
      ],
      "metadata": {
        "colab": {
          "base_uri": "https://localhost:8080/",
          "height": 467
        },
        "id": "g8yi1vkUzXA4",
        "outputId": "429826fd-31d1-43c1-dbe9-f416a4d90ca1"
      },
      "execution_count": null,
      "outputs": [
        {
          "output_type": "execute_result",
          "data": {
            "text/plain": [
              "Text(0, 0.5, 'Number of Wine')"
            ]
          },
          "metadata": {},
          "execution_count": 23
        },
        {
          "output_type": "display_data",
          "data": {
            "text/plain": [
              "<Figure size 640x480 with 1 Axes>"
            ],
            "image/png": "[encoded data removed]"
          },
          "metadata": {}
        }
      ]
    },
    {
      "cell_type": "code",
      "source": [
        "df['residual sugar'].hist()\n",
        "plt.xlabel('residual sugar')\n",
        "plt.ylabel('Number of Wine')"
      ],
      "metadata": {
        "colab": {
          "base_uri": "https://localhost:8080/",
          "height": 467
        },
        "id": "cvAiwOg3z3RQ",
        "outputId": "9b440a52-662d-423c-f7ec-c563bb8271fb"
      },
      "execution_count": null,
      "outputs": [
        {
          "output_type": "execute_result",
          "data": {
            "text/plain": [
              "Text(0, 0.5, 'Number of Wine')"
            ]
          },
          "metadata": {},
          "execution_count": 24
        },
        {
          "output_type": "display_data",
          "data": {
            "text/plain": [
              "<Figure size 640x480 with 1 Axes>"
            ],
            "image/png": "[encoded data removed]"
          },
          "metadata": {}
        }
      ]
    },
    {
      "cell_type": "code",
      "source": [
        "df['alcohol'].hist()\n",
        "plt.xlabel('alcohol')\n",
        "plt.ylabel('Number of Wine')"
      ],
      "metadata": {
        "colab": {
          "base_uri": "https://localhost:8080/",
          "height": 467
        },
        "id": "2vxIeDzh0DKm",
        "outputId": "8e7b8497-7328-4d2a-cf87-5a39238304e3"
      },
      "execution_count": null,
      "outputs": [
        {
          "output_type": "execute_result",
          "data": {
            "text/plain": [
              "Text(0, 0.5, 'Number of Wine')"
            ]
          },
          "metadata": {},
          "execution_count": 28
        },
        {
          "output_type": "display_data",
          "data": {
            "text/plain": [
              "<Figure size 640x480 with 1 Axes>"
            ],
            "image/png": "[encoded data removed]"
          },
          "metadata": {}
        }
      ]
    },
    {
      "cell_type": "markdown",
      "source": [
        "2.2 Split data into training and test set. Build models that evaluate the relationship between all available X variables in the dataset and the target variable. Evaluate Logistic Regression, Penalized Logistic Regression, and KNN for classification using cross-validation."
      ],
      "metadata": {
        "id": "7vjkTMfqNP0w"
      }
    },
    {
      "cell_type": "code",
      "source": [
        "y=df['winetype']\n",
        "X=df.loc[:, df.columns != 'winetype']\n",
        "X.head()"
      ],
      "metadata": {
        "id": "L-pOppqANQzf"
      },
      "execution_count": null,
      "outputs": []
    },
    {
      "cell_type": "code",
      "source": [
        "from sklearn.model_selection import train_test_split\n",
        "X_train, X_test, y_train, y_test = train_test_split(X, y, random_state=3)\n",
        "\n",
        "X_train.head()"
      ],
      "metadata": {
        "id": "MJZAuuTCOCjD"
      },
      "execution_count": null,
      "outputs": []
    },
    {
      "cell_type": "code",
      "source": [
        "from sklearn.model_selection import cross_val_score\n",
        "from sklearn.preprocessing import StandardScaler\n",
        "from sklearn.linear_model import LogisticRegression\n",
        "from sklearn.neighbors import KNeighborsClassifier\n",
        "\n",
        "logistic_model = LogisticRegression()\n",
        "penalized_logistic_model = LogisticRegression(penalty='l2')\n",
        "knn_model = KNeighborsClassifier()\n",
        "\n",
        "scaler = StandardScaler()\n",
        "\n",
        "X_train_scaled = scaler.fit_transform(X_train)\n",
        "X_test_scaled = scaler.transform(X_test)\n",
        "\n",
        "cv_accuracy_logistic = cross_val_score(logistic_model, X_train, y_train, cv=5, scoring='accuracy')\n",
        "cv_accuracy_p_logistic = cross_val_score(penalized_logistic_model, X_train, y_train, cv=5, scoring='accuracy')\n",
        "cv_accuracy_knn = cross_val_score(knn_model, X_train, y_train, cv=5, scoring='accuracy')\n",
        "cv_accuracy_knn_scaled = cross_val_score(knn_model, X_train_scaled, y_train, cv=5, scoring='accuracy')\n",
        "\n",
        "logistic_model.fit(X_train, y_train)\n",
        "penalized_logistic_model.fit(X_train, y_train)\n",
        "knn_model.fit(X_train_scaled, y_train)\n",
        "\n",
        "print(\"logistic_model.coef_: {}\".format(logistic_model.coef_))\n",
        "print(\"Cross-Validation Accuracy (Logistic Regression):\", cv_accuracy_logistic.mean())\n",
        "print(\"penalized_logistic_model.coef_: {}\".format(penalized_logistic_model.coef_))\n",
        "print(\"Cross-Validation Accuracy (Penalized Logistic Regression):\", cv_accuracy_p_logistic.mean())\n",
        "\n",
        "print(\"Cross-Validation Accuracy (KNN without scaling):\", cv_accuracy_knn.mean())\n",
        "print(\"Cross-Validation Accuracy (KNN with scaling):\", cv_accuracy_knn_scaled.mean())\n"
      ],
      "metadata": {
        "colab": {
          "base_uri": "https://localhost:8080/"
        },
        "id": "1GROHY_wOR2E",
        "outputId": "5771cf27-c8eb-49d1-cb83-1dd25ebb6299"
      },
      "execution_count": null,
      "outputs": [
        {
          "output_type": "stream",
          "name": "stderr",
          "text": [
            "/usr/local/lib/python3.10/dist-packages/sklearn/linear_model/_logistic.py:458: ConvergenceWarning: lbfgs failed to converge (status=1):\n",
            "STOP: TOTAL NO. of ITERATIONS REACHED LIMIT.\n",
            "\n",
            "Increase the number of iterations (max_iter) or scale the data as shown in:\n",
            "    https://scikit-learn.org/stable/modules/preprocessing.html\n",
            "Please also refer to the documentation for alternative solver options:\n",
            "    https://scikit-learn.org/stable/modules/linear_model.html#logistic-regression\n",
            "  n_iter_i = _check_optimize_result(\n",
            "/usr/local/lib/python3.10/dist-packages/sklearn/linear_model/_logistic.py:458: ConvergenceWarning: lbfgs failed to converge (status=1):\n",
            "STOP: TOTAL NO. of ITERATIONS REACHED LIMIT.\n",
            "\n",
            "Increase the number of iterations (max_iter) or scale the data as shown in:\n",
            "    https://scikit-learn.org/stable/modules/preprocessing.html\n",
            "Please also refer to the documentation for alternative solver options:\n",
            "    https://scikit-learn.org/stable/modules/linear_model.html#logistic-regression\n",
            "  n_iter_i = _check_optimize_result(\n",
            "/usr/local/lib/python3.10/dist-packages/sklearn/linear_model/_logistic.py:458: ConvergenceWarning: lbfgs failed to converge (status=1):\n",
            "STOP: TOTAL NO. of ITERATIONS REACHED LIMIT.\n",
            "\n",
            "Increase the number of iterations (max_iter) or scale the data as shown in:\n",
            "    https://scikit-learn.org/stable/modules/preprocessing.html\n",
            "Please also refer to the documentation for alternative solver options:\n",
            "    https://scikit-learn.org/stable/modules/linear_model.html#logistic-regression\n",
            "  n_iter_i = _check_optimize_result(\n",
            "/usr/local/lib/python3.10/dist-packages/sklearn/linear_model/_logistic.py:458: ConvergenceWarning: lbfgs failed to converge (status=1):\n",
            "STOP: TOTAL NO. of ITERATIONS REACHED LIMIT.\n",
            "\n",
            "Increase the number of iterations (max_iter) or scale the data as shown in:\n",
            "    https://scikit-learn.org/stable/modules/preprocessing.html\n",
            "Please also refer to the documentation for alternative solver options:\n",
            "    https://scikit-learn.org/stable/modules/linear_model.html#logistic-regression\n",
            "  n_iter_i = _check_optimize_result(\n",
            "/usr/local/lib/python3.10/dist-packages/sklearn/linear_model/_logistic.py:458: ConvergenceWarning: lbfgs failed to converge (status=1):\n",
            "STOP: TOTAL NO. of ITERATIONS REACHED LIMIT.\n",
            "\n",
            "Increase the number of iterations (max_iter) or scale the data as shown in:\n",
            "    https://scikit-learn.org/stable/modules/preprocessing.html\n",
            "Please also refer to the documentation for alternative solver options:\n",
            "    https://scikit-learn.org/stable/modules/linear_model.html#logistic-regression\n",
            "  n_iter_i = _check_optimize_result(\n",
            "/usr/local/lib/python3.10/dist-packages/sklearn/linear_model/_logistic.py:458: ConvergenceWarning: lbfgs failed to converge (status=1):\n",
            "STOP: TOTAL NO. of ITERATIONS REACHED LIMIT.\n",
            "\n",
            "Increase the number of iterations (max_iter) or scale the data as shown in:\n",
            "    https://scikit-learn.org/stable/modules/preprocessing.html\n",
            "Please also refer to the documentation for alternative solver options:\n",
            "    https://scikit-learn.org/stable/modules/linear_model.html#logistic-regression\n",
            "  n_iter_i = _check_optimize_result(\n",
            "/usr/local/lib/python3.10/dist-packages/sklearn/linear_model/_logistic.py:458: ConvergenceWarning: lbfgs failed to converge (status=1):\n",
            "STOP: TOTAL NO. of ITERATIONS REACHED LIMIT.\n",
            "\n",
            "Increase the number of iterations (max_iter) or scale the data as shown in:\n",
            "    https://scikit-learn.org/stable/modules/preprocessing.html\n",
            "Please also refer to the documentation for alternative solver options:\n",
            "    https://scikit-learn.org/stable/modules/linear_model.html#logistic-regression\n",
            "  n_iter_i = _check_optimize_result(\n",
            "/usr/local/lib/python3.10/dist-packages/sklearn/linear_model/_logistic.py:458: ConvergenceWarning: lbfgs failed to converge (status=1):\n",
            "STOP: TOTAL NO. of ITERATIONS REACHED LIMIT.\n",
            "\n",
            "Increase the number of iterations (max_iter) or scale the data as shown in:\n",
            "    https://scikit-learn.org/stable/modules/preprocessing.html\n",
            "Please also refer to the documentation for alternative solver options:\n",
            "    https://scikit-learn.org/stable/modules/linear_model.html#logistic-regression\n",
            "  n_iter_i = _check_optimize_result(\n",
            "/usr/local/lib/python3.10/dist-packages/sklearn/linear_model/_logistic.py:458: ConvergenceWarning: lbfgs failed to converge (status=1):\n",
            "STOP: TOTAL NO. of ITERATIONS REACHED LIMIT.\n",
            "\n",
            "Increase the number of iterations (max_iter) or scale the data as shown in:\n",
            "    https://scikit-learn.org/stable/modules/preprocessing.html\n",
            "Please also refer to the documentation for alternative solver options:\n",
            "    https://scikit-learn.org/stable/modules/linear_model.html#logistic-regression\n",
            "  n_iter_i = _check_optimize_result(\n",
            "/usr/local/lib/python3.10/dist-packages/sklearn/linear_model/_logistic.py:458: ConvergenceWarning: lbfgs failed to converge (status=1):\n",
            "STOP: TOTAL NO. of ITERATIONS REACHED LIMIT.\n",
            "\n",
            "Increase the number of iterations (max_iter) or scale the data as shown in:\n",
            "    https://scikit-learn.org/stable/modules/preprocessing.html\n",
            "Please also refer to the documentation for alternative solver options:\n",
            "    https://scikit-learn.org/stable/modules/linear_model.html#logistic-regression\n",
            "  n_iter_i = _check_optimize_result(\n"
          ]
        },
        {
          "output_type": "stream",
          "name": "stdout",
          "text": [
            "logistic_model.coef_: [[ 0.67936692  8.20240891 -1.3607246  -0.18460758  1.39354882  0.05140585\n",
            "  -0.06523268 -1.36963     1.37548048  6.8224932  -0.82087606 -0.07137195]]\n",
            "Cross-Validation Accuracy (Logistic Regression): 0.9772162375612068\n",
            "penalized_logistic_model.coef_: [[ 0.67936692  8.20240891 -1.3607246  -0.18460758  1.39354882  0.05140585\n",
            "  -0.06523268 -1.36963     1.37548048  6.8224932  -0.82087606 -0.07137195]]\n",
            "Cross-Validation Accuracy (Penalized Logistic Regression): 0.9772162375612068\n",
            "Cross-Validation Accuracy (KNN without scaling): 0.939653767177381\n",
            "Cross-Validation Accuracy (KNN with scaling): 0.993637234770705\n"
          ]
        },
        {
          "output_type": "stream",
          "name": "stderr",
          "text": [
            "/usr/local/lib/python3.10/dist-packages/sklearn/linear_model/_logistic.py:458: ConvergenceWarning: lbfgs failed to converge (status=1):\n",
            "STOP: TOTAL NO. of ITERATIONS REACHED LIMIT.\n",
            "\n",
            "Increase the number of iterations (max_iter) or scale the data as shown in:\n",
            "    https://scikit-learn.org/stable/modules/preprocessing.html\n",
            "Please also refer to the documentation for alternative solver options:\n",
            "    https://scikit-learn.org/stable/modules/linear_model.html#logistic-regression\n",
            "  n_iter_i = _check_optimize_result(\n",
            "/usr/local/lib/python3.10/dist-packages/sklearn/linear_model/_logistic.py:458: ConvergenceWarning: lbfgs failed to converge (status=1):\n",
            "STOP: TOTAL NO. of ITERATIONS REACHED LIMIT.\n",
            "\n",
            "Increase the number of iterations (max_iter) or scale the data as shown in:\n",
            "    https://scikit-learn.org/stable/modules/preprocessing.html\n",
            "Please also refer to the documentation for alternative solver options:\n",
            "    https://scikit-learn.org/stable/modules/linear_model.html#logistic-regression\n",
            "  n_iter_i = _check_optimize_result(\n"
          ]
        }
      ]
    },
    {
      "cell_type": "markdown",
      "source": [
        "**How different are the results? How does scaling the data with StandardScaler influence the results?**\n",
        "\n",
        "The results for logistic regression and penalized logistic regression were identical. Their cross validation accuracy was both 0.9772162375612068. Whereas KNN experienced a significant improvement in accuracy from scalling, from 0.939653767177381 to 0.993637234770705."
      ],
      "metadata": {
        "id": "o_PM3NgPRik7"
      }
    },
    {
      "cell_type": "markdown",
      "source": [
        "2.3 Tune the parameters where possible using GridSearchCV. Do the results improve?"
      ],
      "metadata": {
        "id": "X64NREEaS5QR"
      }
    },
    {
      "cell_type": "code",
      "source": [
        "from sklearn.model_selection import GridSearchCV\n",
        "\n",
        "penalized_logistic_param_grid = {\n",
        "    'penalty': ['l1', 'l2'],\n",
        "    'C': [0.01, 0.1, 1.0, 10.0],\n",
        "    'solver': ['liblinear']\n",
        "}\n",
        "\n",
        "logistic_param_grid = {\n",
        "    'C': [0.01, 0.1, 1.0, 10.0],\n",
        "    'solver': ['liblinear']\n",
        "}\n",
        "\n",
        "knn_param_grid = {\n",
        "    'n_neighbors': [3, 5, 7, 9],\n",
        "    'weights': ['uniform', 'distance'],\n",
        "}\n",
        "\n",
        "penalized_logistic_grid_search = GridSearchCV(penalized_logistic_model, penalized_logistic_param_grid, cv=5, scoring='accuracy')\n",
        "logistic_grid_search = GridSearchCV(logistic_model, logistic_param_grid, cv=5, scoring='accuracy')\n",
        "knn_grid_search = GridSearchCV(knn_model, knn_param_grid, cv=5, scoring='accuracy')\n",
        "\n",
        "penalized_logistic_grid_search.fit(X_train,y_train)\n",
        "logistic_grid_search.fit(X_train, y_train)\n",
        "knn_grid_search.fit(X_train_scaled, y_train)\n",
        "\n",
        "\n",
        "best_penalized_logistic_params = penalized_logistic_grid_search.best_params_\n",
        "best_penalized_logistic_score = penalized_logistic_grid_search.best_score_\n",
        "\n",
        "best_logistic_params = logistic_grid_search.best_params_\n",
        "best_logistic_score = logistic_grid_search.best_score_\n",
        "\n",
        "best_knn_params = knn_grid_search.best_params_\n",
        "best_knn_score = knn_grid_search.best_score_\n",
        "\n",
        "print(\"Best Penalized Logistic Regression Parameters:\", best_penalized_logistic_params)\n",
        "print(\"Best Penalized Logistic Regression Score (Accuracy):\", best_penalized_logistic_score)\n",
        "\n",
        "print(\"Best Logistic Regression Parameters:\", best_logistic_params)\n",
        "print(\"Best Logistic Regression Score (Accuracy):\", best_logistic_score)\n",
        "\n",
        "print(\"Best K-Nearest Neighbors Parameters:\", best_knn_params)\n",
        "print(\"Best K-Nearest Neighbors Score (Accuracy):\", best_knn_score)"
      ],
      "metadata": {
        "colab": {
          "base_uri": "https://localhost:8080/"
        },
        "id": "JkKiV_JySd2P",
        "outputId": "4a293b37-0250-495c-ab35-06e50e6fb6c5"
      },
      "execution_count": null,
      "outputs": [
        {
          "output_type": "stream",
          "name": "stdout",
          "text": [
            "Best Penalized Logistic Regression Parameters: {'C': 10.0, 'penalty': 'l1', 'solver': 'liblinear'}\n",
            "Best Penalized Logistic Regression Score (Accuracy): 0.9878898541567945\n",
            "Best Logistic Regression Parameters: {'C': 10.0, 'solver': 'liblinear'}\n",
            "Best Logistic Regression Score (Accuracy): 0.986658663718212\n",
            "Best K-Nearest Neighbors Parameters: {'n_neighbors': 7, 'weights': 'distance'}\n",
            "Best K-Nearest Neighbors Score (Accuracy): 0.9944583794029379\n"
          ]
        }
      ]
    },
    {
      "cell_type": "markdown",
      "source": [
        "**Do the results improve?**\n",
        "\n",
        "It slightly improved.\n"
      ],
      "metadata": {
        "id": "g0pIwR8MWD3_"
      }
    },
    {
      "cell_type": "markdown",
      "source": [
        "2.4 Change the cross-validation strategy in GridSearchCV from ‘stratified k-fold’ to ‘kfold’ with shuffling."
      ],
      "metadata": {
        "id": "aYOGtnqWW1tI"
      }
    },
    {
      "cell_type": "code",
      "source": [
        "from sklearn.model_selection import KFold\n",
        "\n",
        "penalized_logistic_param_grid = {\n",
        "    'penalty': ['l1', 'l2'],\n",
        "    'C': [0.01, 0.1, 1.0, 10.0],\n",
        "    'solver': ['liblinear']\n",
        "}\n",
        "\n",
        "logistic_param_grid = {\n",
        "    'C': [0.01, 0.1, 1.0, 10.0],\n",
        "    'solver': ['liblinear']\n",
        "}\n",
        "\n",
        "knn_param_grid = {\n",
        "    'n_neighbors': [3, 5, 7, 9],\n",
        "    'weights': ['uniform', 'distance'],\n",
        "}\n",
        "\n",
        "kf = KFold(n_splits=5, shuffle=True, random_state=42)\n",
        "\n",
        "penalized_logistic_grid_search = GridSearchCV(penalized_logistic_model, penalized_logistic_param_grid, cv=kf, scoring='accuracy')\n",
        "logistic_grid_search = GridSearchCV(logistic_model, logistic_param_grid, cv=kf, scoring='accuracy')\n",
        "knn_grid_search = GridSearchCV(knn_model, knn_param_grid, cv=kf, scoring='accuracy')\n",
        "\n",
        "penalized_logistic_grid_search.fit(X_train,y_train)\n",
        "logistic_grid_search.fit(X_train, y_train)\n",
        "knn_grid_search.fit(X_train_scaled, y_train)\n",
        "\n",
        "\n",
        "best_penalized_logistic_params = penalized_logistic_grid_search.best_params_\n",
        "best_penalized_logistic_score = penalized_logistic_grid_search.best_score_\n",
        "\n",
        "best_logistic_params = logistic_grid_search.best_params_\n",
        "best_logistic_score = logistic_grid_search.best_score_\n",
        "\n",
        "best_knn_params = knn_grid_search.best_params_\n",
        "best_knn_score = knn_grid_search.best_score_\n",
        "\n",
        "print(\"Best Penalized Logistic Regression Parameters:\", best_penalized_logistic_params)\n",
        "print(\"Best Penalized Logistic Regression Score (Accuracy):\", best_penalized_logistic_score)\n",
        "\n",
        "print(\"Best Logistic Regression Parameters:\", best_logistic_params)\n",
        "print(\"Best Logistic Regression Score (Accuracy):\", best_logistic_score)\n",
        "\n",
        "print(\"Best K-Nearest Neighbors Parameters:\", best_knn_params)\n",
        "print(\"Best K-Nearest Neighbors Score (Accuracy):\", best_knn_score)"
      ],
      "metadata": {
        "colab": {
          "base_uri": "https://localhost:8080/"
        },
        "id": "PR0vnmHcWJZN",
        "outputId": "6a49c7dd-4be9-41bd-b79f-ad6c26273fa5"
      },
      "execution_count": null,
      "outputs": [
        {
          "output_type": "stream",
          "name": "stdout",
          "text": [
            "Best Penalized Logistic Regression Parameters: {'C': 10.0, 'penalty': 'l1', 'solver': 'liblinear'}\n",
            "Best Penalized Logistic Regression Score (Accuracy): 0.9870691307323751\n",
            "Best Logistic Regression Parameters: {'C': 10.0, 'solver': 'liblinear'}\n",
            "Best Logistic Regression Score (Accuracy): 0.985427052071816\n",
            "Best K-Nearest Neighbors Parameters: {'n_neighbors': 7, 'weights': 'distance'}\n",
            "Best K-Nearest Neighbors Score (Accuracy): 0.9940481229926814\n"
          ]
        }
      ]
    },
    {
      "cell_type": "code",
      "source": [
        "kf = KFold(n_splits=5, shuffle=True, random_state=123)\n",
        "\n",
        "penalized_logistic_grid_search = GridSearchCV(penalized_logistic_model, penalized_logistic_param_grid, cv=kf, scoring='accuracy')\n",
        "logistic_grid_search = GridSearchCV(logistic_model, logistic_param_grid, cv=kf, scoring='accuracy')\n",
        "knn_grid_search = GridSearchCV(knn_model, knn_param_grid, cv=kf, scoring='accuracy')\n",
        "\n",
        "penalized_logistic_grid_search.fit(X_train,y_train)\n",
        "logistic_grid_search.fit(X_train, y_train)\n",
        "knn_grid_search.fit(X_train_scaled, y_train)\n",
        "\n",
        "\n",
        "best_penalized_logistic_params = penalized_logistic_grid_search.best_params_\n",
        "best_penalized_logistic_score = penalized_logistic_grid_search.best_score_\n",
        "\n",
        "best_logistic_params = logistic_grid_search.best_params_\n",
        "best_logistic_score = logistic_grid_search.best_score_\n",
        "\n",
        "best_knn_params = knn_grid_search.best_params_\n",
        "best_knn_score = knn_grid_search.best_score_\n",
        "\n",
        "print(\"Best Penalized Logistic Regression Parameters:\", best_penalized_logistic_params)\n",
        "print(\"Best Penalized Logistic Regression Score (Accuracy):\", best_penalized_logistic_score)\n",
        "\n",
        "print(\"Best Logistic Regression Parameters:\", best_logistic_params)\n",
        "print(\"Best Logistic Regression Score (Accuracy):\", best_logistic_score)\n",
        "\n",
        "print(\"Best K-Nearest Neighbors Parameters:\", best_knn_params)\n",
        "print(\"Best K-Nearest Neighbors Score (Accuracy):\", best_knn_score)"
      ],
      "metadata": {
        "colab": {
          "base_uri": "https://localhost:8080/"
        },
        "id": "HRhocOiNagG1",
        "outputId": "1537d925-8d2f-450b-dd2c-76a8d51f0201"
      },
      "execution_count": null,
      "outputs": [
        {
          "output_type": "stream",
          "name": "stdout",
          "text": [
            "Best Penalized Logistic Regression Parameters: {'C': 10.0, 'penalty': 'l1', 'solver': 'liblinear'}\n",
            "Best Penalized Logistic Regression Score (Accuracy): 0.9880951929658295\n",
            "Best Logistic Regression Parameters: {'C': 10.0, 'solver': 'liblinear'}\n",
            "Best Logistic Regression Score (Accuracy): 0.9852208708471544\n",
            "Best K-Nearest Neighbors Parameters: {'n_neighbors': 9, 'weights': 'distance'}\n",
            "Best K-Nearest Neighbors Score (Accuracy): 0.9938429947875533\n"
          ]
        }
      ]
    },
    {
      "cell_type": "markdown",
      "source": [
        "**Do the parameters for models that can be tuned change? Or if you change the random state of the split into training and test data?**\n",
        "\n",
        "The parameter was unchanged with shuffle/unshuffle but changed when random state of the split altered.\n",
        "\n",
        "Before:Best K-Nearest Neighbors Parameters: {'n_neighbors': 7, 'weights': 'distance'}\n",
        "\n",
        "After:Best K-Nearest Neighbors Parameters: {'n_neighbors': 9, 'weights': 'distance'}."
      ],
      "metadata": {
        "id": "ezwej5ZWbgFv"
      }
    },
    {
      "cell_type": "markdown",
      "source": [
        "2.5 Lastly, discuss which final model you would choose to predict new data.\n",
        "\n",
        "I would like to choose the KNN with parameter n_neighbors: 7, weights: distance as my final model.\n",
        "As we known, KNN is a non-parametric algorithm that relies on the similarity of data points to make predictions. It doesn't make strong assumptions about the underlying data distribution. The distribution of explanatory variables we plotted are somehow equally distributed instead of exhibiting two polar points. In this case, KNN can be effective because we suspect that similar data points are likely to have similar target values.\n"
      ],
      "metadata": {
        "id": "bbnxFSYUcjiQ"
      }
    }
  ]
}