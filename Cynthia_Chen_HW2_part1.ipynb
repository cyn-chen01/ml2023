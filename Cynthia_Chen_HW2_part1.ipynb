{
  "nbformat": 4,
  "nbformat_minor": 0,
  "metadata": {
    "colab": {
      "provenance": []
    },
    "kernelspec": {
      "name": "python3",
      "display_name": "Python 3"
    },
    "language_info": {
      "name": "python"
    }
  },
  "cells": [
    {
      "cell_type": "markdown",
      "source": [
        "**Part 1: Regression on California Test Scores**"
      ],
      "metadata": {
        "id": "Av8qbZz7xtlY"
      }
    },
    {
      "cell_type": "code",
      "execution_count": null,
      "metadata": {
        "id": "iFi-LFvkvQGH",
        "colab": {
          "base_uri": "https://localhost:8080/",
          "height": 382
        },
        "outputId": "af529319-d95f-4f41-a2a9-cd1dc67266a8"
      },
      "outputs": [
        {
          "output_type": "execute_result",
          "data": {
            "text/plain": [
              "   rownames  distcod   county                         district grspan  \\\n",
              "0         1    75119  Alameda               Sunol Glen Unified  KK-08   \n",
              "1         2    61499    Butte             Manzanita Elementary  KK-08   \n",
              "2         3    61549    Butte      Thermalito Union Elementary  KK-08   \n",
              "3         4    61457    Butte  Golden Feather Union Elementary  KK-08   \n",
              "4         5    61523    Butte         Palermo Union Elementary  KK-08   \n",
              "\n",
              "   enrltot   teachers    calwpct    mealpct  computer     testscr   compstu  \\\n",
              "0      195  10.900000   0.510200   2.040800        67  690.799988  0.343590   \n",
              "1      240  11.150000  15.416700  47.916698       101  661.200012  0.420833   \n",
              "2     1550  82.900002  55.032299  76.322601       169  643.599976  0.109032   \n",
              "3      243  14.000000  36.475399  77.049202        85  647.700012  0.349794   \n",
              "4     1335  71.500000  33.108601  78.427002       171  640.849976  0.128090   \n",
              "\n",
              "       expnstu        str     avginc      elpct     readscr     mathscr  \n",
              "0  6384.911133  17.889910  22.690001   0.000000  691.599976  690.000000  \n",
              "1  5099.380859  21.524664   9.824000   4.583333  660.500000  661.900024  \n",
              "2  5501.954590  18.697226   8.978000  30.000002  636.299988  650.900024  \n",
              "3  7101.831055  17.357143   8.978000   0.000000  651.900024  643.500000  \n",
              "4  5235.987793  18.671329   9.080333  13.857677  641.799988  639.900024  "
            ],
            "text/html": [
              "\n",
              "  <div id=\"df-f38cfce0-50b8-4eb5-b3ff-06af4006f4a3\" class=\"colab-df-container\">\n",
              "    <div>\n",
              "<style scoped>\n",
              "    .dataframe tbody tr th:only-of-type {\n",
              "        vertical-align: middle;\n",
              "    }\n",
              "\n",
              "    .dataframe tbody tr th {\n",
              "        vertical-align: top;\n",
              "    }\n",
              "\n",
              "    .dataframe thead th {\n",
              "        text-align: right;\n",
              "    }\n",
              "</style>\n",
              "<table border=\"1\" class=\"dataframe\">\n",
              "  <thead>\n",
              "    <tr style=\"text-align: right;\">\n",
              "      <th></th>\n",
              "      <th>rownames</th>\n",
              "      <th>distcod</th>\n",
              "      <th>county</th>\n",
              "      <th>district</th>\n",
              "      <th>grspan</th>\n",
              "      <th>enrltot</th>\n",
              "      <th>teachers</th>\n",
              "      <th>calwpct</th>\n",
              "      <th>mealpct</th>\n",
              "      <th>computer</th>\n",
              "      <th>testscr</th>\n",
              "      <th>compstu</th>\n",
              "      <th>expnstu</th>\n",
              "      <th>str</th>\n",
              "      <th>avginc</th>\n",
              "      <th>elpct</th>\n",
              "      <th>readscr</th>\n",
              "      <th>mathscr</th>\n",
              "    </tr>\n",
              "  </thead>\n",
              "  <tbody>\n",
              "    <tr>\n",
              "      <th>0</th>\n",
              "      <td>1</td>\n",
              "      <td>75119</td>\n",
              "      <td>Alameda</td>\n",
              "      <td>Sunol Glen Unified</td>\n",
              "      <td>KK-08</td>\n",
              "      <td>195</td>\n",
              "      <td>10.900000</td>\n",
              "      <td>0.510200</td>\n",
              "      <td>2.040800</td>\n",
              "      <td>67</td>\n",
              "      <td>690.799988</td>\n",
              "      <td>0.343590</td>\n",
              "      <td>6384.911133</td>\n",
              "      <td>17.889910</td>\n",
              "      <td>22.690001</td>\n",
              "      <td>0.000000</td>\n",
              "      <td>691.599976</td>\n",
              "      <td>690.000000</td>\n",
              "    </tr>\n",
              "    <tr>\n",
              "      <th>1</th>\n",
              "      <td>2</td>\n",
              "      <td>61499</td>\n",
              "      <td>Butte</td>\n",
              "      <td>Manzanita Elementary</td>\n",
              "      <td>KK-08</td>\n",
              "      <td>240</td>\n",
              "      <td>11.150000</td>\n",
              "      <td>15.416700</td>\n",
              "      <td>47.916698</td>\n",
              "      <td>101</td>\n",
              "      <td>661.200012</td>\n",
              "      <td>0.420833</td>\n",
              "      <td>5099.380859</td>\n",
              "      <td>21.524664</td>\n",
              "      <td>9.824000</td>\n",
              "      <td>4.583333</td>\n",
              "      <td>660.500000</td>\n",
              "      <td>661.900024</td>\n",
              "    </tr>\n",
              "    <tr>\n",
              "      <th>2</th>\n",
              "      <td>3</td>\n",
              "      <td>61549</td>\n",
              "      <td>Butte</td>\n",
              "      <td>Thermalito Union Elementary</td>\n",
              "      <td>KK-08</td>\n",
              "      <td>1550</td>\n",
              "      <td>82.900002</td>\n",
              "      <td>55.032299</td>\n",
              "      <td>76.322601</td>\n",
              "      <td>169</td>\n",
              "      <td>643.599976</td>\n",
              "      <td>0.109032</td>\n",
              "      <td>5501.954590</td>\n",
              "      <td>18.697226</td>\n",
              "      <td>8.978000</td>\n",
              "      <td>30.000002</td>\n",
              "      <td>636.299988</td>\n",
              "      <td>650.900024</td>\n",
              "    </tr>\n",
              "    <tr>\n",
              "      <th>3</th>\n",
              "      <td>4</td>\n",
              "      <td>61457</td>\n",
              "      <td>Butte</td>\n",
              "      <td>Golden Feather Union Elementary</td>\n",
              "      <td>KK-08</td>\n",
              "      <td>243</td>\n",
              "      <td>14.000000</td>\n",
              "      <td>36.475399</td>\n",
              "      <td>77.049202</td>\n",
              "      <td>85</td>\n",
              "      <td>647.700012</td>\n",
              "      <td>0.349794</td>\n",
              "      <td>7101.831055</td>\n",
              "      <td>17.357143</td>\n",
              "      <td>8.978000</td>\n",
              "      <td>0.000000</td>\n",
              "      <td>651.900024</td>\n",
              "      <td>643.500000</td>\n",
              "    </tr>\n",
              "    <tr>\n",
              "      <th>4</th>\n",
              "      <td>5</td>\n",
              "      <td>61523</td>\n",
              "      <td>Butte</td>\n",
              "      <td>Palermo Union Elementary</td>\n",
              "      <td>KK-08</td>\n",
              "      <td>1335</td>\n",
              "      <td>71.500000</td>\n",
              "      <td>33.108601</td>\n",
              "      <td>78.427002</td>\n",
              "      <td>171</td>\n",
              "      <td>640.849976</td>\n",
              "      <td>0.128090</td>\n",
              "      <td>5235.987793</td>\n",
              "      <td>18.671329</td>\n",
              "      <td>9.080333</td>\n",
              "      <td>13.857677</td>\n",
              "      <td>641.799988</td>\n",
              "      <td>639.900024</td>\n",
              "    </tr>\n",
              "  </tbody>\n",
              "</table>\n",
              "</div>\n",
              "    <div class=\"colab-df-buttons\">\n",
              "\n",
              "  <div class=\"colab-df-container\">\n",
              "    <button class=\"colab-df-convert\" onclick=\"convertToInteractive('df-f38cfce0-50b8-4eb5-b3ff-06af4006f4a3')\"\n",
              "            title=\"Convert this dataframe to an interactive table.\"\n",
              "            style=\"display:none;\">\n",
              "\n",
              "  <svg xmlns=\"http://www.w3.org/2000/svg\" height=\"24px\" viewBox=\"0 -960 960 960\">\n",
              "    <path d=\"M120-120v-720h720v720H120Zm60-500h600v-160H180v160Zm220 220h160v-160H400v160Zm0 220h160v-160H400v160ZM180-400h160v-160H180v160Zm440 0h160v-160H620v160ZM180-180h160v-160H180v160Zm440 0h160v-160H620v160Z\"/>\n",
              "  </svg>\n",
              "    </button>\n",
              "\n",
              "  <style>\n",
              "    .colab-df-container {\n",
              "      display:flex;\n",
              "      gap: 12px;\n",
              "    }\n",
              "\n",
              "    .colab-df-convert {\n",
              "      background-color: #E8F0FE;\n",
              "      border: none;\n",
              "      border-radius: 50%;\n",
              "      cursor: pointer;\n",
              "      display: none;\n",
              "      fill: #1967D2;\n",
              "      height: 32px;\n",
              "      padding: 0 0 0 0;\n",
              "      width: 32px;\n",
              "    }\n",
              "\n",
              "    .colab-df-convert:hover {\n",
              "      background-color: #E2EBFA;\n",
              "      box-shadow: 0px 1px 2px rgba(60, 64, 67, 0.3), 0px 1px 3px 1px rgba(60, 64, 67, 0.15);\n",
              "      fill: #174EA6;\n",
              "    }\n",
              "\n",
              "    .colab-df-buttons div {\n",
              "      margin-bottom: 4px;\n",
              "    }\n",
              "\n",
              "    [theme=dark] .colab-df-convert {\n",
              "      background-color: #3B4455;\n",
              "      fill: #D2E3FC;\n",
              "    }\n",
              "\n",
              "    [theme=dark] .colab-df-convert:hover {\n",
              "      background-color: #434B5C;\n",
              "      box-shadow: 0px 1px 3px 1px rgba(0, 0, 0, 0.15);\n",
              "      filter: drop-shadow(0px 1px 2px rgba(0, 0, 0, 0.3));\n",
              "      fill: #FFFFFF;\n",
              "    }\n",
              "  </style>\n",
              "\n",
              "    <script>\n",
              "      const buttonEl =\n",
              "        document.querySelector('#df-f38cfce0-50b8-4eb5-b3ff-06af4006f4a3 button.colab-df-convert');\n",
              "      buttonEl.style.display =\n",
              "        google.colab.kernel.accessAllowed ? 'block' : 'none';\n",
              "\n",
              "      async function convertToInteractive(key) {\n",
              "        const element = document.querySelector('#df-f38cfce0-50b8-4eb5-b3ff-06af4006f4a3');\n",
              "        const dataTable =\n",
              "          await google.colab.kernel.invokeFunction('convertToInteractive',\n",
              "                                                    [key], {});\n",
              "        if (!dataTable) return;\n",
              "\n",
              "        const docLinkHtml = 'Like what you see? Visit the ' +\n",
              "          '<a target=\"_blank\" href=https://colab.research.google.com/notebooks/data_table.ipynb>data table notebook</a>'\n",
              "          + ' to learn more about interactive tables.';\n",
              "        element.innerHTML = '';\n",
              "        dataTable['output_type'] = 'display_data';\n",
              "        await google.colab.output.renderOutput(dataTable, element);\n",
              "        const docLink = document.createElement('div');\n",
              "        docLink.innerHTML = docLinkHtml;\n",
              "        element.appendChild(docLink);\n",
              "      }\n",
              "    </script>\n",
              "  </div>\n",
              "\n",
              "\n",
              "<div id=\"df-b67cae7d-5a42-40dc-99d3-ffbc95503d07\">\n",
              "  <button class=\"colab-df-quickchart\" onclick=\"quickchart('df-b67cae7d-5a42-40dc-99d3-ffbc95503d07')\"\n",
              "            title=\"Suggest charts.\"\n",
              "            style=\"display:none;\">\n",
              "\n",
              "<svg xmlns=\"http://www.w3.org/2000/svg\" height=\"24px\"viewBox=\"0 0 24 24\"\n",
              "     width=\"24px\">\n",
              "    <g>\n",
              "        <path d=\"M19 3H5c-1.1 0-2 .9-2 2v14c0 1.1.9 2 2 2h14c1.1 0 2-.9 2-2V5c0-1.1-.9-2-2-2zM9 17H7v-7h2v7zm4 0h-2V7h2v10zm4 0h-2v-4h2v4z\"/>\n",
              "    </g>\n",
              "</svg>\n",
              "  </button>\n",
              "\n",
              "<style>\n",
              "  .colab-df-quickchart {\n",
              "      --bg-color: #E8F0FE;\n",
              "      --fill-color: #1967D2;\n",
              "      --hover-bg-color: #E2EBFA;\n",
              "      --hover-fill-color: #174EA6;\n",
              "      --disabled-fill-color: #AAA;\n",
              "      --disabled-bg-color: #DDD;\n",
              "  }\n",
              "\n",
              "  [theme=dark] .colab-df-quickchart {\n",
              "      --bg-color: #3B4455;\n",
              "      --fill-color: #D2E3FC;\n",
              "      --hover-bg-color: #434B5C;\n",
              "      --hover-fill-color: #FFFFFF;\n",
              "      --disabled-bg-color: #3B4455;\n",
              "      --disabled-fill-color: #666;\n",
              "  }\n",
              "\n",
              "  .colab-df-quickchart {\n",
              "    background-color: var(--bg-color);\n",
              "    border: none;\n",
              "    border-radius: 50%;\n",
              "    cursor: pointer;\n",
              "    display: none;\n",
              "    fill: var(--fill-color);\n",
              "    height: 32px;\n",
              "    padding: 0;\n",
              "    width: 32px;\n",
              "  }\n",
              "\n",
              "  .colab-df-quickchart:hover {\n",
              "    background-color: var(--hover-bg-color);\n",
              "    box-shadow: 0 1px 2px rgba(60, 64, 67, 0.3), 0 1px 3px 1px rgba(60, 64, 67, 0.15);\n",
              "    fill: var(--button-hover-fill-color);\n",
              "  }\n",
              "\n",
              "  .colab-df-quickchart-complete:disabled,\n",
              "  .colab-df-quickchart-complete:disabled:hover {\n",
              "    background-color: var(--disabled-bg-color);\n",
              "    fill: var(--disabled-fill-color);\n",
              "    box-shadow: none;\n",
              "  }\n",
              "\n",
              "  .colab-df-spinner {\n",
              "    border: 2px solid var(--fill-color);\n",
              "    border-color: transparent;\n",
              "    border-bottom-color: var(--fill-color);\n",
              "    animation:\n",
              "      spin 1s steps(1) infinite;\n",
              "  }\n",
              "\n",
              "  @keyframes spin {\n",
              "    0% {\n",
              "      border-color: transparent;\n",
              "      border-bottom-color: var(--fill-color);\n",
              "      border-left-color: var(--fill-color);\n",
              "    }\n",
              "    20% {\n",
              "      border-color: transparent;\n",
              "      border-left-color: var(--fill-color);\n",
              "      border-top-color: var(--fill-color);\n",
              "    }\n",
              "    30% {\n",
              "      border-color: transparent;\n",
              "      border-left-color: var(--fill-color);\n",
              "      border-top-color: var(--fill-color);\n",
              "      border-right-color: var(--fill-color);\n",
              "    }\n",
              "    40% {\n",
              "      border-color: transparent;\n",
              "      border-right-color: var(--fill-color);\n",
              "      border-top-color: var(--fill-color);\n",
              "    }\n",
              "    60% {\n",
              "      border-color: transparent;\n",
              "      border-right-color: var(--fill-color);\n",
              "    }\n",
              "    80% {\n",
              "      border-color: transparent;\n",
              "      border-right-color: var(--fill-color);\n",
              "      border-bottom-color: var(--fill-color);\n",
              "    }\n",
              "    90% {\n",
              "      border-color: transparent;\n",
              "      border-bottom-color: var(--fill-color);\n",
              "    }\n",
              "  }\n",
              "</style>\n",
              "\n",
              "  <script>\n",
              "    async function quickchart(key) {\n",
              "      const quickchartButtonEl =\n",
              "        document.querySelector('#' + key + ' button');\n",
              "      quickchartButtonEl.disabled = true;  // To prevent multiple clicks.\n",
              "      quickchartButtonEl.classList.add('colab-df-spinner');\n",
              "      try {\n",
              "        const charts = await google.colab.kernel.invokeFunction(\n",
              "            'suggestCharts', [key], {});\n",
              "      } catch (error) {\n",
              "        console.error('Error during call to suggestCharts:', error);\n",
              "      }\n",
              "      quickchartButtonEl.classList.remove('colab-df-spinner');\n",
              "      quickchartButtonEl.classList.add('colab-df-quickchart-complete');\n",
              "    }\n",
              "    (() => {\n",
              "      let quickchartButtonEl =\n",
              "        document.querySelector('#df-b67cae7d-5a42-40dc-99d3-ffbc95503d07 button');\n",
              "      quickchartButtonEl.style.display =\n",
              "        google.colab.kernel.accessAllowed ? 'block' : 'none';\n",
              "    })();\n",
              "  </script>\n",
              "</div>\n",
              "    </div>\n",
              "  </div>\n"
            ]
          },
          "metadata": {},
          "execution_count": 4
        }
      ],
      "source": [
        "import numpy as np\n",
        "import scipy as sp\n",
        "import pandas as pd\n",
        "import matplotlib as mpl\n",
        "import seaborn as sns\n",
        "\n",
        "df = pd.read_csv(\"https://vincentarelbundock.github.io/Rdatasets/csv/Ecdat/Caschool.csv\")\n",
        "df.head()"
      ]
    },
    {
      "cell_type": "markdown",
      "source": [
        "1.1 Visualize the univariate distribution of the target feature and each of the three continuous explanatory variables that you think are likely to have a relationship with the target feature.   "
      ],
      "metadata": {
        "id": "SSfZyDBLyKS2"
      }
    },
    {
      "cell_type": "code",
      "source": [
        "from matplotlib import pyplot as plt\n",
        "df['testscr'].hist()\n",
        "plt.xlabel('Average Test Score')\n",
        "plt.ylabel('Number of Schools')"
      ],
      "metadata": {
        "colab": {
          "base_uri": "https://localhost:8080/",
          "height": 467
        },
        "id": "Nd1c76FJyMjY",
        "outputId": "bf03c528-0d52-459f-d2f5-996da7d81c48"
      },
      "execution_count": null,
      "outputs": [
        {
          "output_type": "execute_result",
          "data": {
            "text/plain": [
              "Text(0, 0.5, 'Number of Schools')"
            ]
          },
          "metadata": {},
          "execution_count": 76
        },
        {
          "output_type": "display_data",
          "data": {
            "text/plain": [
              "<Figure size 640x480 with 1 Axes>"
            ],
            "image/png": "[encoded data removed]"
          },
          "metadata": {}
        }
      ]
    },
    {
      "cell_type": "code",
      "source": [
        "df['str'].hist()\n",
        "plt.xlabel('Student Teacher Ratio')\n",
        "plt.ylabel('Number of Schools')"
      ],
      "metadata": {
        "colab": {
          "base_uri": "https://localhost:8080/",
          "height": 467
        },
        "id": "60nRhr5Dz9C0",
        "outputId": "9332b779-9ee7-4f09-8992-1e14027f274b"
      },
      "execution_count": null,
      "outputs": [
        {
          "output_type": "execute_result",
          "data": {
            "text/plain": [
              "Text(0, 0.5, 'Number of Schools')"
            ]
          },
          "metadata": {},
          "execution_count": 77
        },
        {
          "output_type": "display_data",
          "data": {
            "text/plain": [
              "<Figure size 640x480 with 1 Axes>"
            ],
            "image/png": "[encoded data removed]"
          },
          "metadata": {}
        }
      ]
    },
    {
      "cell_type": "code",
      "source": [
        "df['avginc'].hist()\n",
        "plt.xlabel('District Average Income')\n",
        "plt.ylabel('Number of Schools')"
      ],
      "metadata": {
        "colab": {
          "base_uri": "https://localhost:8080/",
          "height": 467
        },
        "id": "vR2oVcNW05D_",
        "outputId": "ce7592b0-a6b6-45b1-9d6a-7096a9802e18"
      },
      "execution_count": null,
      "outputs": [
        {
          "output_type": "execute_result",
          "data": {
            "text/plain": [
              "Text(0, 0.5, 'Number of Schools')"
            ]
          },
          "metadata": {},
          "execution_count": 78
        },
        {
          "output_type": "display_data",
          "data": {
            "text/plain": [
              "<Figure size 640x480 with 1 Axes>"
            ],
            "image/png": "[encoded data removed]"
          },
          "metadata": {}
        }
      ]
    },
    {
      "cell_type": "code",
      "source": [
        "df['expnstu'].hist()\n",
        "plt.xlabel('Expenditure Per Student')\n",
        "plt.ylabel('Number of Schools')"
      ],
      "metadata": {
        "colab": {
          "base_uri": "https://localhost:8080/",
          "height": 467
        },
        "id": "T_QN0Zj11i3_",
        "outputId": "90e412da-0040-4673-847b-cdba34ece9b8"
      },
      "execution_count": null,
      "outputs": [
        {
          "output_type": "execute_result",
          "data": {
            "text/plain": [
              "Text(0, 0.5, 'Number of Schools')"
            ]
          },
          "metadata": {},
          "execution_count": 79
        },
        {
          "output_type": "display_data",
          "data": {
            "text/plain": [
              "<Figure size 640x480 with 1 Axes>"
            ],
            "image/png": "[encoded data removed]"
          },
          "metadata": {}
        }
      ]
    },
    {
      "cell_type": "markdown",
      "source": [
        "1.2 Visualize the dependency of the target on each feature from 1.1."
      ],
      "metadata": {
        "id": "oCuUInFA2A2a"
      }
    },
    {
      "cell_type": "code",
      "source": [
        "from sklearn.linear_model import LinearRegression\n",
        "\n",
        "x1=np.array(df['str'])\n",
        "y=np.array(df['testscr'])\n",
        "\n",
        "x1 = x1.reshape(-1, 1)\n",
        "\n",
        "model = LinearRegression()\n",
        "model.fit(x1, y)\n",
        "y_pred = model.predict(x)\n",
        "plt.plot(x1, y_pred, label='Linear Regression Line', color='red')\n",
        "\n",
        "plt.scatter(df['str'], df['testscr'])\n",
        "plt.title(\"str v.s. average test score\")\n",
        "plt.xlabel(\"Student Teacher Ratio\")\n",
        "plt.ylabel(\"Average Test Score\")"
      ],
      "metadata": {
        "colab": {
          "base_uri": "https://localhost:8080/",
          "height": 490
        },
        "id": "-Yy2vzCV2CGH",
        "outputId": "548df23b-84c1-4a5e-ebca-eb5eed9c8e00"
      },
      "execution_count": null,
      "outputs": [
        {
          "output_type": "execute_result",
          "data": {
            "text/plain": [
              "Text(0, 0.5, 'Average Test Score')"
            ]
          },
          "metadata": {},
          "execution_count": 80
        },
        {
          "output_type": "display_data",
          "data": {
            "text/plain": [
              "<Figure size 640x480 with 1 Axes>"
            ],
            "image/png": "[encoded data removed]"
          },
          "metadata": {}
        }
      ]
    },
    {
      "cell_type": "code",
      "source": [
        "x2=np.array(df['avginc'])\n",
        "y=np.array(df['testscr'])\n",
        "\n",
        "x2 = x2.reshape(-1, 1)\n",
        "\n",
        "model = LinearRegression()\n",
        "model.fit(x2, y)\n",
        "y_pred = model.predict(x2)\n",
        "plt.plot(x2, y_pred, label='Linear Regression Line', color='red')\n",
        "\n",
        "plt.scatter(df['avginc'], df['testscr'])\n",
        "plt.title(\"District Average Income v.s. Average Test Score\")\n",
        "plt.xlabel(\"District Average Income\")\n",
        "plt.ylabel(\"Average Test Score\")"
      ],
      "metadata": {
        "colab": {
          "base_uri": "https://localhost:8080/",
          "height": 490
        },
        "id": "AwgRPL597WwJ",
        "outputId": "ac5a8e5a-c1b9-4cdf-bf1d-78489ab9ba38"
      },
      "execution_count": null,
      "outputs": [
        {
          "output_type": "execute_result",
          "data": {
            "text/plain": [
              "Text(0, 0.5, 'Average Test Score')"
            ]
          },
          "metadata": {},
          "execution_count": 81
        },
        {
          "output_type": "display_data",
          "data": {
            "text/plain": [
              "<Figure size 640x480 with 1 Axes>"
            ],
            "image/png": "[encoded data removed]"
          },
          "metadata": {}
        }
      ]
    },
    {
      "cell_type": "code",
      "source": [
        "x3=np.array(df['expnstu'])\n",
        "y=np.array(df['testscr'])\n",
        "\n",
        "x3 = x3.reshape(-1, 1)\n",
        "\n",
        "model = LinearRegression()\n",
        "model.fit(x3, y)\n",
        "y_pred = model.predict(x3)\n",
        "plt.plot(x3, y_pred, label='Linear Regression Line', color='red')\n",
        "\n",
        "plt.scatter(df['expnstu'], df['testscr'])\n",
        "plt.title(\"Expenditure per Student v.s. Average Test Score\")\n",
        "plt.xlabel(\"Expenditure per Student\")\n",
        "plt.ylabel(\"Average Test Score\")"
      ],
      "metadata": {
        "colab": {
          "base_uri": "https://localhost:8080/",
          "height": 490
        },
        "id": "mHX6ANKq8XqZ",
        "outputId": "db9d675c-c701-46a4-efc2-7f174b5f1e69"
      },
      "execution_count": null,
      "outputs": [
        {
          "output_type": "execute_result",
          "data": {
            "text/plain": [
              "Text(0, 0.5, 'Average Test Score')"
            ]
          },
          "metadata": {},
          "execution_count": 82
        },
        {
          "output_type": "display_data",
          "data": {
            "text/plain": [
              "<Figure size 640x480 with 1 Axes>"
            ],
            "image/png": "[encoded data removed]"
          },
          "metadata": {}
        }
      ]
    },
    {
      "cell_type": "markdown",
      "source": [
        "1.3 Split data in training and test set. Build models that evaluate the relationship between all available X variables in the California test dataset and the target variable. Evaluate KNN for regression, Linear Regression (OLS), Ridge, and Lasso using cross-validation with the default parameters. Does scaling the data with the StandardScaler help?\n",
        "\n"
      ],
      "metadata": {
        "id": "AE0CNEK19As6"
      }
    },
    {
      "cell_type": "code",
      "source": [
        "df = df[[\"enrltot\",\"teachers\",\"calwpct\",\"mealpct\",\"computer\",\"testscr\",\"compstu\",\"expnstu\",\"str\",\"avginc\",\"elpct\"]]\n",
        "df.head()"
      ],
      "metadata": {
        "colab": {
          "base_uri": "https://localhost:8080/",
          "height": 206
        },
        "id": "cffmkW-y9AX4",
        "outputId": "d5e4b6bc-9d29-4fae-b05b-98a8ede6a805"
      },
      "execution_count": null,
      "outputs": [
        {
          "output_type": "execute_result",
          "data": {
            "text/plain": [
              "   enrltot   teachers    calwpct    mealpct  computer     testscr   compstu  \\\n",
              "0      195  10.900000   0.510200   2.040800        67  690.799988  0.343590   \n",
              "1      240  11.150000  15.416700  47.916698       101  661.200012  0.420833   \n",
              "2     1550  82.900002  55.032299  76.322601       169  643.599976  0.109032   \n",
              "3      243  14.000000  36.475399  77.049202        85  647.700012  0.349794   \n",
              "4     1335  71.500000  33.108601  78.427002       171  640.849976  0.128090   \n",
              "\n",
              "       expnstu        str     avginc      elpct  \n",
              "0  6384.911133  17.889910  22.690001   0.000000  \n",
              "1  5099.380859  21.524664   9.824000   4.583333  \n",
              "2  5501.954590  18.697226   8.978000  30.000002  \n",
              "3  7101.831055  17.357143   8.978000   0.000000  \n",
              "4  5235.987793  18.671329   9.080333  13.857677  "
            ],
            "text/html": [
              "\n",
              "  <div id=\"df-4b2d7f51-7536-44f8-9ee6-ff7508a56e78\" class=\"colab-df-container\">\n",
              "    <div>\n",
              "<style scoped>\n",
              "    .dataframe tbody tr th:only-of-type {\n",
              "        vertical-align: middle;\n",
              "    }\n",
              "\n",
              "    .dataframe tbody tr th {\n",
              "        vertical-align: top;\n",
              "    }\n",
              "\n",
              "    .dataframe thead th {\n",
              "        text-align: right;\n",
              "    }\n",
              "</style>\n",
              "<table border=\"1\" class=\"dataframe\">\n",
              "  <thead>\n",
              "    <tr style=\"text-align: right;\">\n",
              "      <th></th>\n",
              "      <th>enrltot</th>\n",
              "      <th>teachers</th>\n",
              "      <th>calwpct</th>\n",
              "      <th>mealpct</th>\n",
              "      <th>computer</th>\n",
              "      <th>testscr</th>\n",
              "      <th>compstu</th>\n",
              "      <th>expnstu</th>\n",
              "      <th>str</th>\n",
              "      <th>avginc</th>\n",
              "      <th>elpct</th>\n",
              "    </tr>\n",
              "  </thead>\n",
              "  <tbody>\n",
              "    <tr>\n",
              "      <th>0</th>\n",
              "      <td>195</td>\n",
              "      <td>10.900000</td>\n",
              "      <td>0.510200</td>\n",
              "      <td>2.040800</td>\n",
              "      <td>67</td>\n",
              "      <td>690.799988</td>\n",
              "      <td>0.343590</td>\n",
              "      <td>6384.911133</td>\n",
              "      <td>17.889910</td>\n",
              "      <td>22.690001</td>\n",
              "      <td>0.000000</td>\n",
              "    </tr>\n",
              "    <tr>\n",
              "      <th>1</th>\n",
              "      <td>240</td>\n",
              "      <td>11.150000</td>\n",
              "      <td>15.416700</td>\n",
              "      <td>47.916698</td>\n",
              "      <td>101</td>\n",
              "      <td>661.200012</td>\n",
              "      <td>0.420833</td>\n",
              "      <td>5099.380859</td>\n",
              "      <td>21.524664</td>\n",
              "      <td>9.824000</td>\n",
              "      <td>4.583333</td>\n",
              "    </tr>\n",
              "    <tr>\n",
              "      <th>2</th>\n",
              "      <td>1550</td>\n",
              "      <td>82.900002</td>\n",
              "      <td>55.032299</td>\n",
              "      <td>76.322601</td>\n",
              "      <td>169</td>\n",
              "      <td>643.599976</td>\n",
              "      <td>0.109032</td>\n",
              "      <td>5501.954590</td>\n",
              "      <td>18.697226</td>\n",
              "      <td>8.978000</td>\n",
              "      <td>30.000002</td>\n",
              "    </tr>\n",
              "    <tr>\n",
              "      <th>3</th>\n",
              "      <td>243</td>\n",
              "      <td>14.000000</td>\n",
              "      <td>36.475399</td>\n",
              "      <td>77.049202</td>\n",
              "      <td>85</td>\n",
              "      <td>647.700012</td>\n",
              "      <td>0.349794</td>\n",
              "      <td>7101.831055</td>\n",
              "      <td>17.357143</td>\n",
              "      <td>8.978000</td>\n",
              "      <td>0.000000</td>\n",
              "    </tr>\n",
              "    <tr>\n",
              "      <th>4</th>\n",
              "      <td>1335</td>\n",
              "      <td>71.500000</td>\n",
              "      <td>33.108601</td>\n",
              "      <td>78.427002</td>\n",
              "      <td>171</td>\n",
              "      <td>640.849976</td>\n",
              "      <td>0.128090</td>\n",
              "      <td>5235.987793</td>\n",
              "      <td>18.671329</td>\n",
              "      <td>9.080333</td>\n",
              "      <td>13.857677</td>\n",
              "    </tr>\n",
              "  </tbody>\n",
              "</table>\n",
              "</div>\n",
              "    <div class=\"colab-df-buttons\">\n",
              "\n",
              "  <div class=\"colab-df-container\">\n",
              "    <button class=\"colab-df-convert\" onclick=\"convertToInteractive('df-4b2d7f51-7536-44f8-9ee6-ff7508a56e78')\"\n",
              "            title=\"Convert this dataframe to an interactive table.\"\n",
              "            style=\"display:none;\">\n",
              "\n",
              "  <svg xmlns=\"http://www.w3.org/2000/svg\" height=\"24px\" viewBox=\"0 -960 960 960\">\n",
              "    <path d=\"M120-120v-720h720v720H120Zm60-500h600v-160H180v160Zm220 220h160v-160H400v160Zm0 220h160v-160H400v160ZM180-400h160v-160H180v160Zm440 0h160v-160H620v160ZM180-180h160v-160H180v160Zm440 0h160v-160H620v160Z\"/>\n",
              "  </svg>\n",
              "    </button>\n",
              "\n",
              "  <style>\n",
              "    .colab-df-container {\n",
              "      display:flex;\n",
              "      gap: 12px;\n",
              "    }\n",
              "\n",
              "    .colab-df-convert {\n",
              "      background-color: #E8F0FE;\n",
              "      border: none;\n",
              "      border-radius: 50%;\n",
              "      cursor: pointer;\n",
              "      display: none;\n",
              "      fill: #1967D2;\n",
              "      height: 32px;\n",
              "      padding: 0 0 0 0;\n",
              "      width: 32px;\n",
              "    }\n",
              "\n",
              "    .colab-df-convert:hover {\n",
              "      background-color: #E2EBFA;\n",
              "      box-shadow: 0px 1px 2px rgba(60, 64, 67, 0.3), 0px 1px 3px 1px rgba(60, 64, 67, 0.15);\n",
              "      fill: #174EA6;\n",
              "    }\n",
              "\n",
              "    .colab-df-buttons div {\n",
              "      margin-bottom: 4px;\n",
              "    }\n",
              "\n",
              "    [theme=dark] .colab-df-convert {\n",
              "      background-color: #3B4455;\n",
              "      fill: #D2E3FC;\n",
              "    }\n",
              "\n",
              "    [theme=dark] .colab-df-convert:hover {\n",
              "      background-color: #434B5C;\n",
              "      box-shadow: 0px 1px 3px 1px rgba(0, 0, 0, 0.15);\n",
              "      filter: drop-shadow(0px 1px 2px rgba(0, 0, 0, 0.3));\n",
              "      fill: #FFFFFF;\n",
              "    }\n",
              "  </style>\n",
              "\n",
              "    <script>\n",
              "      const buttonEl =\n",
              "        document.querySelector('#df-4b2d7f51-7536-44f8-9ee6-ff7508a56e78 button.colab-df-convert');\n",
              "      buttonEl.style.display =\n",
              "        google.colab.kernel.accessAllowed ? 'block' : 'none';\n",
              "\n",
              "      async function convertToInteractive(key) {\n",
              "        const element = document.querySelector('#df-4b2d7f51-7536-44f8-9ee6-ff7508a56e78');\n",
              "        const dataTable =\n",
              "          await google.colab.kernel.invokeFunction('convertToInteractive',\n",
              "                                                    [key], {});\n",
              "        if (!dataTable) return;\n",
              "\n",
              "        const docLinkHtml = 'Like what you see? Visit the ' +\n",
              "          '<a target=\"_blank\" href=https://colab.research.google.com/notebooks/data_table.ipynb>data table notebook</a>'\n",
              "          + ' to learn more about interactive tables.';\n",
              "        element.innerHTML = '';\n",
              "        dataTable['output_type'] = 'display_data';\n",
              "        await google.colab.output.renderOutput(dataTable, element);\n",
              "        const docLink = document.createElement('div');\n",
              "        docLink.innerHTML = docLinkHtml;\n",
              "        element.appendChild(docLink);\n",
              "      }\n",
              "    </script>\n",
              "  </div>\n",
              "\n",
              "\n",
              "<div id=\"df-ae730dff-5abd-4f7f-aae6-ae2a1f7fd479\">\n",
              "  <button class=\"colab-df-quickchart\" onclick=\"quickchart('df-ae730dff-5abd-4f7f-aae6-ae2a1f7fd479')\"\n",
              "            title=\"Suggest charts.\"\n",
              "            style=\"display:none;\">\n",
              "\n",
              "<svg xmlns=\"http://www.w3.org/2000/svg\" height=\"24px\"viewBox=\"0 0 24 24\"\n",
              "     width=\"24px\">\n",
              "    <g>\n",
              "        <path d=\"M19 3H5c-1.1 0-2 .9-2 2v14c0 1.1.9 2 2 2h14c1.1 0 2-.9 2-2V5c0-1.1-.9-2-2-2zM9 17H7v-7h2v7zm4 0h-2V7h2v10zm4 0h-2v-4h2v4z\"/>\n",
              "    </g>\n",
              "</svg>\n",
              "  </button>\n",
              "\n",
              "<style>\n",
              "  .colab-df-quickchart {\n",
              "      --bg-color: #E8F0FE;\n",
              "      --fill-color: #1967D2;\n",
              "      --hover-bg-color: #E2EBFA;\n",
              "      --hover-fill-color: #174EA6;\n",
              "      --disabled-fill-color: #AAA;\n",
              "      --disabled-bg-color: #DDD;\n",
              "  }\n",
              "\n",
              "  [theme=dark] .colab-df-quickchart {\n",
              "      --bg-color: #3B4455;\n",
              "      --fill-color: #D2E3FC;\n",
              "      --hover-bg-color: #434B5C;\n",
              "      --hover-fill-color: #FFFFFF;\n",
              "      --disabled-bg-color: #3B4455;\n",
              "      --disabled-fill-color: #666;\n",
              "  }\n",
              "\n",
              "  .colab-df-quickchart {\n",
              "    background-color: var(--bg-color);\n",
              "    border: none;\n",
              "    border-radius: 50%;\n",
              "    cursor: pointer;\n",
              "    display: none;\n",
              "    fill: var(--fill-color);\n",
              "    height: 32px;\n",
              "    padding: 0;\n",
              "    width: 32px;\n",
              "  }\n",
              "\n",
              "  .colab-df-quickchart:hover {\n",
              "    background-color: var(--hover-bg-color);\n",
              "    box-shadow: 0 1px 2px rgba(60, 64, 67, 0.3), 0 1px 3px 1px rgba(60, 64, 67, 0.15);\n",
              "    fill: var(--button-hover-fill-color);\n",
              "  }\n",
              "\n",
              "  .colab-df-quickchart-complete:disabled,\n",
              "  .colab-df-quickchart-complete:disabled:hover {\n",
              "    background-color: var(--disabled-bg-color);\n",
              "    fill: var(--disabled-fill-color);\n",
              "    box-shadow: none;\n",
              "  }\n",
              "\n",
              "  .colab-df-spinner {\n",
              "    border: 2px solid var(--fill-color);\n",
              "    border-color: transparent;\n",
              "    border-bottom-color: var(--fill-color);\n",
              "    animation:\n",
              "      spin 1s steps(1) infinite;\n",
              "  }\n",
              "\n",
              "  @keyframes spin {\n",
              "    0% {\n",
              "      border-color: transparent;\n",
              "      border-bottom-color: var(--fill-color);\n",
              "      border-left-color: var(--fill-color);\n",
              "    }\n",
              "    20% {\n",
              "      border-color: transparent;\n",
              "      border-left-color: var(--fill-color);\n",
              "      border-top-color: var(--fill-color);\n",
              "    }\n",
              "    30% {\n",
              "      border-color: transparent;\n",
              "      border-left-color: var(--fill-color);\n",
              "      border-top-color: var(--fill-color);\n",
              "      border-right-color: var(--fill-color);\n",
              "    }\n",
              "    40% {\n",
              "      border-color: transparent;\n",
              "      border-right-color: var(--fill-color);\n",
              "      border-top-color: var(--fill-color);\n",
              "    }\n",
              "    60% {\n",
              "      border-color: transparent;\n",
              "      border-right-color: var(--fill-color);\n",
              "    }\n",
              "    80% {\n",
              "      border-color: transparent;\n",
              "      border-right-color: var(--fill-color);\n",
              "      border-bottom-color: var(--fill-color);\n",
              "    }\n",
              "    90% {\n",
              "      border-color: transparent;\n",
              "      border-bottom-color: var(--fill-color);\n",
              "    }\n",
              "  }\n",
              "</style>\n",
              "\n",
              "  <script>\n",
              "    async function quickchart(key) {\n",
              "      const quickchartButtonEl =\n",
              "        document.querySelector('#' + key + ' button');\n",
              "      quickchartButtonEl.disabled = true;  // To prevent multiple clicks.\n",
              "      quickchartButtonEl.classList.add('colab-df-spinner');\n",
              "      try {\n",
              "        const charts = await google.colab.kernel.invokeFunction(\n",
              "            'suggestCharts', [key], {});\n",
              "      } catch (error) {\n",
              "        console.error('Error during call to suggestCharts:', error);\n",
              "      }\n",
              "      quickchartButtonEl.classList.remove('colab-df-spinner');\n",
              "      quickchartButtonEl.classList.add('colab-df-quickchart-complete');\n",
              "    }\n",
              "    (() => {\n",
              "      let quickchartButtonEl =\n",
              "        document.querySelector('#df-ae730dff-5abd-4f7f-aae6-ae2a1f7fd479 button');\n",
              "      quickchartButtonEl.style.display =\n",
              "        google.colab.kernel.accessAllowed ? 'block' : 'none';\n",
              "    })();\n",
              "  </script>\n",
              "</div>\n",
              "    </div>\n",
              "  </div>\n"
            ]
          },
          "metadata": {},
          "execution_count": 5
        }
      ]
    },
    {
      "cell_type": "code",
      "source": [
        "y=df['testscr']\n",
        "X=df.loc[:, df.columns != 'testscr']\n",
        "\n",
        "print(y[0:5])\n",
        "X.head()"
      ],
      "metadata": {
        "colab": {
          "base_uri": "https://localhost:8080/",
          "height": 313
        },
        "id": "pNUS2zle_A4V",
        "outputId": "3af36d01-1020-4ff4-f844-5ec2b3c3ab74"
      },
      "execution_count": null,
      "outputs": [
        {
          "output_type": "stream",
          "name": "stdout",
          "text": [
            "0    690.799988\n",
            "1    661.200012\n",
            "2    643.599976\n",
            "3    647.700012\n",
            "4    640.849976\n",
            "Name: testscr, dtype: float64\n"
          ]
        },
        {
          "output_type": "execute_result",
          "data": {
            "text/plain": [
              "   enrltot   teachers    calwpct    mealpct  computer   compstu      expnstu  \\\n",
              "0      195  10.900000   0.510200   2.040800        67  0.343590  6384.911133   \n",
              "1      240  11.150000  15.416700  47.916698       101  0.420833  5099.380859   \n",
              "2     1550  82.900002  55.032299  76.322601       169  0.109032  5501.954590   \n",
              "3      243  14.000000  36.475399  77.049202        85  0.349794  7101.831055   \n",
              "4     1335  71.500000  33.108601  78.427002       171  0.128090  5235.987793   \n",
              "\n",
              "         str     avginc      elpct  \n",
              "0  17.889910  22.690001   0.000000  \n",
              "1  21.524664   9.824000   4.583333  \n",
              "2  18.697226   8.978000  30.000002  \n",
              "3  17.357143   8.978000   0.000000  \n",
              "4  18.671329   9.080333  13.857677  "
            ],
            "text/html": [
              "\n",
              "  <div id=\"df-2eef9f7e-1660-4a4c-bcb5-823bad1fc7d5\" class=\"colab-df-container\">\n",
              "    <div>\n",
              "<style scoped>\n",
              "    .dataframe tbody tr th:only-of-type {\n",
              "        vertical-align: middle;\n",
              "    }\n",
              "\n",
              "    .dataframe tbody tr th {\n",
              "        vertical-align: top;\n",
              "    }\n",
              "\n",
              "    .dataframe thead th {\n",
              "        text-align: right;\n",
              "    }\n",
              "</style>\n",
              "<table border=\"1\" class=\"dataframe\">\n",
              "  <thead>\n",
              "    <tr style=\"text-align: right;\">\n",
              "      <th></th>\n",
              "      <th>enrltot</th>\n",
              "      <th>teachers</th>\n",
              "      <th>calwpct</th>\n",
              "      <th>mealpct</th>\n",
              "      <th>computer</th>\n",
              "      <th>compstu</th>\n",
              "      <th>expnstu</th>\n",
              "      <th>str</th>\n",
              "      <th>avginc</th>\n",
              "      <th>elpct</th>\n",
              "    </tr>\n",
              "  </thead>\n",
              "  <tbody>\n",
              "    <tr>\n",
              "      <th>0</th>\n",
              "      <td>195</td>\n",
              "      <td>10.900000</td>\n",
              "      <td>0.510200</td>\n",
              "      <td>2.040800</td>\n",
              "      <td>67</td>\n",
              "      <td>0.343590</td>\n",
              "      <td>6384.911133</td>\n",
              "      <td>17.889910</td>\n",
              "      <td>22.690001</td>\n",
              "      <td>0.000000</td>\n",
              "    </tr>\n",
              "    <tr>\n",
              "      <th>1</th>\n",
              "      <td>240</td>\n",
              "      <td>11.150000</td>\n",
              "      <td>15.416700</td>\n",
              "      <td>47.916698</td>\n",
              "      <td>101</td>\n",
              "      <td>0.420833</td>\n",
              "      <td>5099.380859</td>\n",
              "      <td>21.524664</td>\n",
              "      <td>9.824000</td>\n",
              "      <td>4.583333</td>\n",
              "    </tr>\n",
              "    <tr>\n",
              "      <th>2</th>\n",
              "      <td>1550</td>\n",
              "      <td>82.900002</td>\n",
              "      <td>55.032299</td>\n",
              "      <td>76.322601</td>\n",
              "      <td>169</td>\n",
              "      <td>0.109032</td>\n",
              "      <td>5501.954590</td>\n",
              "      <td>18.697226</td>\n",
              "      <td>8.978000</td>\n",
              "      <td>30.000002</td>\n",
              "    </tr>\n",
              "    <tr>\n",
              "      <th>3</th>\n",
              "      <td>243</td>\n",
              "      <td>14.000000</td>\n",
              "      <td>36.475399</td>\n",
              "      <td>77.049202</td>\n",
              "      <td>85</td>\n",
              "      <td>0.349794</td>\n",
              "      <td>7101.831055</td>\n",
              "      <td>17.357143</td>\n",
              "      <td>8.978000</td>\n",
              "      <td>0.000000</td>\n",
              "    </tr>\n",
              "    <tr>\n",
              "      <th>4</th>\n",
              "      <td>1335</td>\n",
              "      <td>71.500000</td>\n",
              "      <td>33.108601</td>\n",
              "      <td>78.427002</td>\n",
              "      <td>171</td>\n",
              "      <td>0.128090</td>\n",
              "      <td>5235.987793</td>\n",
              "      <td>18.671329</td>\n",
              "      <td>9.080333</td>\n",
              "      <td>13.857677</td>\n",
              "    </tr>\n",
              "  </tbody>\n",
              "</table>\n",
              "</div>\n",
              "    <div class=\"colab-df-buttons\">\n",
              "\n",
              "  <div class=\"colab-df-container\">\n",
              "    <button class=\"colab-df-convert\" onclick=\"convertToInteractive('df-2eef9f7e-1660-4a4c-bcb5-823bad1fc7d5')\"\n",
              "            title=\"Convert this dataframe to an interactive table.\"\n",
              "            style=\"display:none;\">\n",
              "\n",
              "  <svg xmlns=\"http://www.w3.org/2000/svg\" height=\"24px\" viewBox=\"0 -960 960 960\">\n",
              "    <path d=\"M120-120v-720h720v720H120Zm60-500h600v-160H180v160Zm220 220h160v-160H400v160Zm0 220h160v-160H400v160ZM180-400h160v-160H180v160Zm440 0h160v-160H620v160ZM180-180h160v-160H180v160Zm440 0h160v-160H620v160Z\"/>\n",
              "  </svg>\n",
              "    </button>\n",
              "\n",
              "  <style>\n",
              "    .colab-df-container {\n",
              "      display:flex;\n",
              "      gap: 12px;\n",
              "    }\n",
              "\n",
              "    .colab-df-convert {\n",
              "      background-color: #E8F0FE;\n",
              "      border: none;\n",
              "      border-radius: 50%;\n",
              "      cursor: pointer;\n",
              "      display: none;\n",
              "      fill: #1967D2;\n",
              "      height: 32px;\n",
              "      padding: 0 0 0 0;\n",
              "      width: 32px;\n",
              "    }\n",
              "\n",
              "    .colab-df-convert:hover {\n",
              "      background-color: #E2EBFA;\n",
              "      box-shadow: 0px 1px 2px rgba(60, 64, 67, 0.3), 0px 1px 3px 1px rgba(60, 64, 67, 0.15);\n",
              "      fill: #174EA6;\n",
              "    }\n",
              "\n",
              "    .colab-df-buttons div {\n",
              "      margin-bottom: 4px;\n",
              "    }\n",
              "\n",
              "    [theme=dark] .colab-df-convert {\n",
              "      background-color: #3B4455;\n",
              "      fill: #D2E3FC;\n",
              "    }\n",
              "\n",
              "    [theme=dark] .colab-df-convert:hover {\n",
              "      background-color: #434B5C;\n",
              "      box-shadow: 0px 1px 3px 1px rgba(0, 0, 0, 0.15);\n",
              "      filter: drop-shadow(0px 1px 2px rgba(0, 0, 0, 0.3));\n",
              "      fill: #FFFFFF;\n",
              "    }\n",
              "  </style>\n",
              "\n",
              "    <script>\n",
              "      const buttonEl =\n",
              "        document.querySelector('#df-2eef9f7e-1660-4a4c-bcb5-823bad1fc7d5 button.colab-df-convert');\n",
              "      buttonEl.style.display =\n",
              "        google.colab.kernel.accessAllowed ? 'block' : 'none';\n",
              "\n",
              "      async function convertToInteractive(key) {\n",
              "        const element = document.querySelector('#df-2eef9f7e-1660-4a4c-bcb5-823bad1fc7d5');\n",
              "        const dataTable =\n",
              "          await google.colab.kernel.invokeFunction('convertToInteractive',\n",
              "                                                    [key], {});\n",
              "        if (!dataTable) return;\n",
              "\n",
              "        const docLinkHtml = 'Like what you see? Visit the ' +\n",
              "          '<a target=\"_blank\" href=https://colab.research.google.com/notebooks/data_table.ipynb>data table notebook</a>'\n",
              "          + ' to learn more about interactive tables.';\n",
              "        element.innerHTML = '';\n",
              "        dataTable['output_type'] = 'display_data';\n",
              "        await google.colab.output.renderOutput(dataTable, element);\n",
              "        const docLink = document.createElement('div');\n",
              "        docLink.innerHTML = docLinkHtml;\n",
              "        element.appendChild(docLink);\n",
              "      }\n",
              "    </script>\n",
              "  </div>\n",
              "\n",
              "\n",
              "<div id=\"df-dac77959-ed7d-467a-af7c-10acedb89a1c\">\n",
              "  <button class=\"colab-df-quickchart\" onclick=\"quickchart('df-dac77959-ed7d-467a-af7c-10acedb89a1c')\"\n",
              "            title=\"Suggest charts.\"\n",
              "            style=\"display:none;\">\n",
              "\n",
              "<svg xmlns=\"http://www.w3.org/2000/svg\" height=\"24px\"viewBox=\"0 0 24 24\"\n",
              "     width=\"24px\">\n",
              "    <g>\n",
              "        <path d=\"M19 3H5c-1.1 0-2 .9-2 2v14c0 1.1.9 2 2 2h14c1.1 0 2-.9 2-2V5c0-1.1-.9-2-2-2zM9 17H7v-7h2v7zm4 0h-2V7h2v10zm4 0h-2v-4h2v4z\"/>\n",
              "    </g>\n",
              "</svg>\n",
              "  </button>\n",
              "\n",
              "<style>\n",
              "  .colab-df-quickchart {\n",
              "      --bg-color: #E8F0FE;\n",
              "      --fill-color: #1967D2;\n",
              "      --hover-bg-color: #E2EBFA;\n",
              "      --hover-fill-color: #174EA6;\n",
              "      --disabled-fill-color: #AAA;\n",
              "      --disabled-bg-color: #DDD;\n",
              "  }\n",
              "\n",
              "  [theme=dark] .colab-df-quickchart {\n",
              "      --bg-color: #3B4455;\n",
              "      --fill-color: #D2E3FC;\n",
              "      --hover-bg-color: #434B5C;\n",
              "      --hover-fill-color: #FFFFFF;\n",
              "      --disabled-bg-color: #3B4455;\n",
              "      --disabled-fill-color: #666;\n",
              "  }\n",
              "\n",
              "  .colab-df-quickchart {\n",
              "    background-color: var(--bg-color);\n",
              "    border: none;\n",
              "    border-radius: 50%;\n",
              "    cursor: pointer;\n",
              "    display: none;\n",
              "    fill: var(--fill-color);\n",
              "    height: 32px;\n",
              "    padding: 0;\n",
              "    width: 32px;\n",
              "  }\n",
              "\n",
              "  .colab-df-quickchart:hover {\n",
              "    background-color: var(--hover-bg-color);\n",
              "    box-shadow: 0 1px 2px rgba(60, 64, 67, 0.3), 0 1px 3px 1px rgba(60, 64, 67, 0.15);\n",
              "    fill: var(--button-hover-fill-color);\n",
              "  }\n",
              "\n",
              "  .colab-df-quickchart-complete:disabled,\n",
              "  .colab-df-quickchart-complete:disabled:hover {\n",
              "    background-color: var(--disabled-bg-color);\n",
              "    fill: var(--disabled-fill-color);\n",
              "    box-shadow: none;\n",
              "  }\n",
              "\n",
              "  .colab-df-spinner {\n",
              "    border: 2px solid var(--fill-color);\n",
              "    border-color: transparent;\n",
              "    border-bottom-color: var(--fill-color);\n",
              "    animation:\n",
              "      spin 1s steps(1) infinite;\n",
              "  }\n",
              "\n",
              "  @keyframes spin {\n",
              "    0% {\n",
              "      border-color: transparent;\n",
              "      border-bottom-color: var(--fill-color);\n",
              "      border-left-color: var(--fill-color);\n",
              "    }\n",
              "    20% {\n",
              "      border-color: transparent;\n",
              "      border-left-color: var(--fill-color);\n",
              "      border-top-color: var(--fill-color);\n",
              "    }\n",
              "    30% {\n",
              "      border-color: transparent;\n",
              "      border-left-color: var(--fill-color);\n",
              "      border-top-color: var(--fill-color);\n",
              "      border-right-color: var(--fill-color);\n",
              "    }\n",
              "    40% {\n",
              "      border-color: transparent;\n",
              "      border-right-color: var(--fill-color);\n",
              "      border-top-color: var(--fill-color);\n",
              "    }\n",
              "    60% {\n",
              "      border-color: transparent;\n",
              "      border-right-color: var(--fill-color);\n",
              "    }\n",
              "    80% {\n",
              "      border-color: transparent;\n",
              "      border-right-color: var(--fill-color);\n",
              "      border-bottom-color: var(--fill-color);\n",
              "    }\n",
              "    90% {\n",
              "      border-color: transparent;\n",
              "      border-bottom-color: var(--fill-color);\n",
              "    }\n",
              "  }\n",
              "</style>\n",
              "\n",
              "  <script>\n",
              "    async function quickchart(key) {\n",
              "      const quickchartButtonEl =\n",
              "        document.querySelector('#' + key + ' button');\n",
              "      quickchartButtonEl.disabled = true;  // To prevent multiple clicks.\n",
              "      quickchartButtonEl.classList.add('colab-df-spinner');\n",
              "      try {\n",
              "        const charts = await google.colab.kernel.invokeFunction(\n",
              "            'suggestCharts', [key], {});\n",
              "      } catch (error) {\n",
              "        console.error('Error during call to suggestCharts:', error);\n",
              "      }\n",
              "      quickchartButtonEl.classList.remove('colab-df-spinner');\n",
              "      quickchartButtonEl.classList.add('colab-df-quickchart-complete');\n",
              "    }\n",
              "    (() => {\n",
              "      let quickchartButtonEl =\n",
              "        document.querySelector('#df-dac77959-ed7d-467a-af7c-10acedb89a1c button');\n",
              "      quickchartButtonEl.style.display =\n",
              "        google.colab.kernel.accessAllowed ? 'block' : 'none';\n",
              "    })();\n",
              "  </script>\n",
              "</div>\n",
              "    </div>\n",
              "  </div>\n"
            ]
          },
          "metadata": {},
          "execution_count": 6
        }
      ]
    },
    {
      "cell_type": "code",
      "source": [
        "from sklearn.model_selection import train_test_split\n",
        "from sklearn.preprocessing import StandardScaler\n",
        "\n",
        "X_train, X_test, y_train, y_test = train_test_split(X, y, random_state=3)\n",
        "\n",
        "scaler = StandardScaler()\n",
        "X_train_scaled = scaler.fit_transform(X_train)\n",
        "X_test_scaled = scaler.transform(X_test)"
      ],
      "metadata": {
        "id": "dpM_ZHkj_x23"
      },
      "execution_count": null,
      "outputs": []
    },
    {
      "cell_type": "code",
      "source": [
        "from sklearn.neighbors import KNeighborsRegressor\n",
        "\n",
        "knn = KNeighborsRegressor(n_neighbors=5)\n",
        "knn.fit(X_train, y_train)\n",
        "print(\"knn:\" + str(knn.score(X_test, y_test)))\n",
        "\n",
        "knn = KNeighborsRegressor(n_neighbors=5)\n",
        "knn.fit(X_train_scaled, y_train)\n",
        "print(\"knn_scaled:\" + str(knn.score(X_test_scaled, y_test)))\n"
      ],
      "metadata": {
        "colab": {
          "base_uri": "https://localhost:8080/"
        },
        "id": "SDg9bg5TBemH",
        "outputId": "df5de0af-7d91-4276-e127-175bde045e11"
      },
      "execution_count": null,
      "outputs": [
        {
          "output_type": "stream",
          "name": "stdout",
          "text": [
            "knn:-0.012001466918634573\n",
            "knn_scaled:0.7942871688110476\n"
          ]
        }
      ]
    },
    {
      "cell_type": "code",
      "source": [
        "from sklearn.linear_model import LinearRegression\n",
        "\n",
        "lr = LinearRegression()\n",
        "lr.fit(X_train, y_train)\n",
        "\n",
        "print(X_train.columns)\n",
        "print(\"lr.coef_: \"+str(lr.coef_))\n",
        "print(\"lr.intercept_: {}\".format(lr.intercept_))"
      ],
      "metadata": {
        "colab": {
          "base_uri": "https://localhost:8080/"
        },
        "id": "uRdNZyT-JY0h",
        "outputId": "47b1f2cc-fae1-494b-c1da-1742e6a63f85"
      },
      "execution_count": null,
      "outputs": [
        {
          "output_type": "stream",
          "name": "stdout",
          "text": [
            "Index(['enrltot', 'teachers', 'calwpct', 'mealpct', 'computer', 'compstu',\n",
            "       'expnstu', 'str', 'avginc', 'elpct'],\n",
            "      dtype='object')\n",
            "lr.coef_: [ 3.50529268e-04 -5.94448612e-03 -7.51940798e-02 -3.97412791e-01\n",
            " -6.11891242e-04  2.33253179e+01  1.21773520e-03 -3.45181597e-01\n",
            "  5.86988079e-01 -1.85164009e-01]\n",
            "lr.intercept_: 664.2840527394483\n"
          ]
        }
      ]
    },
    {
      "cell_type": "code",
      "source": [
        "from sklearn.linear_model import Ridge\n",
        "\n",
        "rg=Ridge()\n",
        "rg.fit(X_train,y_train)\n",
        "print(\"Training set score: {:.2f}\".format(rg.score(X_train, y_train)))\n",
        "print(\"Test set score: {:.2f}\".format(rg.score(X_test, y_test)))\n",
        "print(\"rg.coef_: {}\".format(rg.coef_))"
      ],
      "metadata": {
        "colab": {
          "base_uri": "https://localhost:8080/"
        },
        "id": "96LGkiI7IbVO",
        "outputId": "95a3a9a1-dd03-49cf-c9c7-7ed49dd56194"
      },
      "execution_count": null,
      "outputs": [
        {
          "output_type": "stream",
          "name": "stdout",
          "text": [
            "Training set score: 0.80\n",
            "Test set score: 0.83\n",
            "rg.coef_: [ 6.67994576e-04 -1.74654464e-02 -8.97628626e-02 -3.89926310e-01\n",
            "  1.53584867e-03  1.03641791e+01  1.47219217e-03 -4.29993163e-01\n",
            "  5.91446395e-01 -1.93719809e-01]\n"
          ]
        }
      ]
    },
    {
      "cell_type": "code",
      "source": [
        "np.sum(lasso.coef_!=0)"
      ],
      "metadata": {
        "colab": {
          "base_uri": "https://localhost:8080/"
        },
        "id": "q0961vGnJj0-",
        "outputId": "f57dec9e-59ad-4899-db3d-2b73b3e837a9"
      },
      "execution_count": null,
      "outputs": [
        {
          "output_type": "execute_result",
          "data": {
            "text/plain": [
              "7"
            ]
          },
          "metadata": {},
          "execution_count": 22
        }
      ]
    },
    {
      "cell_type": "code",
      "source": [
        "from sklearn.linear_model import Lasso\n",
        "lasso = Lasso().fit(X_train, y_train)\n",
        "print(\"Training set score: {:.2f}\".format(lasso.score(X_train, y_train)))\n",
        "print(\"Test set score: {:.2f}\".format(lasso.score(X_test, y_test)))\n",
        "print(\"Number of features used: {}\".format(np.sum(lasso.coef_ != 0)))\n",
        "\n",
        "print(\"lasso.coef_: {}\".format(lasso.coef_))\n"
      ],
      "metadata": {
        "colab": {
          "base_uri": "https://localhost:8080/"
        },
        "id": "-Rv0JnR7Jeqd",
        "outputId": "313b34ad-3fa5-4cf5-f8d0-9eb4928797ad"
      },
      "execution_count": null,
      "outputs": [
        {
          "output_type": "stream",
          "name": "stdout",
          "text": [
            "Training set score: 0.80\n",
            "Test set score: 0.83\n",
            "Number of features used: 7\n",
            "lasso.coef_: [-3.50766163e-04 -0.00000000e+00 -9.08461706e-02 -3.99615491e-01\n",
            "  2.69743019e-03  0.00000000e+00  2.58164069e-03 -0.00000000e+00\n",
            "  5.50127908e-01 -1.92470958e-01]\n"
          ]
        }
      ]
    },
    {
      "cell_type": "code",
      "source": [
        "from sklearn.model_selection import cross_val_score\n",
        "from sklearn.model_selection import KFold\n",
        "\n",
        "kfold = KFold(n_splits=5)\n",
        "\n",
        "print(\"KNN: \"+str(cross_val_score(knn, X_train, y_train, cv=kfold).mean()))\n",
        "print(\"KNN_scale: \"+str(cross_val_score(knn, X_train_scaled, y_train, cv=kfold).mean()))\n",
        "\n",
        "print(\"Linear Regression: \"+str(cross_val_score(lr, X_train, y_train, cv=kfold).mean()))\n",
        "\n",
        "print(\"Ridge: \"+str(cross_val_score(rg, X_train, y_train, cv=kfold).mean()))\n",
        "\n",
        "print(\"Lasso: \"+str(cross_val_score(lasso, X_train, y_train, cv=kfold).mean()))"
      ],
      "metadata": {
        "colab": {
          "base_uri": "https://localhost:8080/"
        },
        "id": "gPP02M7eKGW1",
        "outputId": "ecd1803b-c0d1-425d-9540-bd81eab15c18"
      },
      "execution_count": null,
      "outputs": [
        {
          "output_type": "stream",
          "name": "stdout",
          "text": [
            "KNN: -0.004972701872224117\n",
            "KNN_scale: 0.7115480560549877\n",
            "Linear Regression: 0.7910219660775242\n",
            "Ridge: 0.7899602942012101\n",
            "Lasso: 0.787727366717929\n"
          ]
        },
        {
          "output_type": "stream",
          "name": "stderr",
          "text": [
            "/usr/local/lib/python3.10/dist-packages/sklearn/linear_model/_coordinate_descent.py:631: ConvergenceWarning: Objective did not converge. You might want to increase the number of iterations, check the scale of the features or consider increasing regularisation. Duality gap: 1.570e+02, tolerance: 8.834e+00\n",
            "  model = cd_fast.enet_coordinate_descent(\n",
            "/usr/local/lib/python3.10/dist-packages/sklearn/linear_model/_coordinate_descent.py:631: ConvergenceWarning: Objective did not converge. You might want to increase the number of iterations, check the scale of the features or consider increasing regularisation. Duality gap: 1.096e+03, tolerance: 9.183e+00\n",
            "  model = cd_fast.enet_coordinate_descent(\n",
            "/usr/local/lib/python3.10/dist-packages/sklearn/linear_model/_coordinate_descent.py:631: ConvergenceWarning: Objective did not converge. You might want to increase the number of iterations, check the scale of the features or consider increasing regularisation. Duality gap: 3.773e+03, tolerance: 9.610e+00\n",
            "  model = cd_fast.enet_coordinate_descent(\n"
          ]
        }
      ]
    },
    {
      "cell_type": "markdown",
      "source": [
        "**Does scaling the data with the StandardScaler help?**\n",
        "It signidicantly improved the KNN regression."
      ],
      "metadata": {
        "id": "o2yoH5p_PuZU"
      }
    },
    {
      "cell_type": "markdown",
      "source": [
        "1.4 Tune the parameters of the models where possible using GridSearchCV."
      ],
      "metadata": {
        "id": "8YThti-0QC3D"
      }
    },
    {
      "cell_type": "code",
      "source": [
        "from sklearn.model_selection import GridSearchCV\n",
        "\n",
        "knn_param_grid = {\n",
        "    'n_neighbors': [3, 5, 7, 9],\n",
        "    'weights': ['uniform', 'distance'],\n",
        "}\n",
        "\n",
        "ridge_param_grid = {\n",
        "    'alpha': [0.01, 0.1, 1.0, 10.0],\n",
        "}\n",
        "\n",
        "lasso_param_grid = {\n",
        "    'alpha': [0.01, 0.1, 1.0, 10.0],\n",
        "}\n",
        "\n",
        "knn_grid_search = GridSearchCV(knn, knn_param_grid, cv=5, scoring='r2')\n",
        "ridge_grid_search = GridSearchCV(rg, ridge_param_grid, cv=5, scoring='r2')\n",
        "lasso_grid_search = GridSearchCV(lasso, lasso_param_grid, cv=5, scoring='r2')\n",
        "\n",
        "knn_grid_search.fit(X_train_scaled, y_train)\n",
        "ridge_grid_search.fit(X_train, y_train)\n",
        "lasso_grid_search.fit(X_train, y_train)\n",
        "\n",
        "print(\"KNN Best Parameters:\", knn_grid_search.best_params_)\n",
        "print(\"KNN Best R^2:\", knn_grid_search.best_score_)\n",
        "\n",
        "print(\"Ridge Best Parameters:\", ridge_grid_search.best_params_)\n",
        "print(\"Ridge Best R^2:\", ridge_grid_search.best_score_)\n",
        "\n",
        "\n",
        "print(\"Lasso Best Parameters:\", lasso_grid_search.best_params_)\n",
        "print(\"Lasso Best R^2:\", lasso_grid_search.best_score_)\n",
        "\n"
      ],
      "metadata": {
        "colab": {
          "base_uri": "https://localhost:8080/"
        },
        "id": "G-z-WwyDQCiB",
        "outputId": "495aab97-03f5-4cb3-dd2a-a2d2be189208"
      },
      "execution_count": null,
      "outputs": [
        {
          "output_type": "stream",
          "name": "stderr",
          "text": [
            "/usr/local/lib/python3.10/dist-packages/sklearn/linear_model/_coordinate_descent.py:631: ConvergenceWarning: Objective did not converge. You might want to increase the number of iterations, check the scale of the features or consider increasing regularisation. Duality gap: 8.540e+03, tolerance: 8.834e+00\n",
            "  model = cd_fast.enet_coordinate_descent(\n",
            "/usr/local/lib/python3.10/dist-packages/sklearn/linear_model/_coordinate_descent.py:631: ConvergenceWarning: Objective did not converge. You might want to increase the number of iterations, check the scale of the features or consider increasing regularisation. Duality gap: 9.319e+03, tolerance: 9.574e+00\n",
            "  model = cd_fast.enet_coordinate_descent(\n",
            "/usr/local/lib/python3.10/dist-packages/sklearn/linear_model/_coordinate_descent.py:631: ConvergenceWarning: Objective did not converge. You might want to increase the number of iterations, check the scale of the features or consider increasing regularisation. Duality gap: 8.871e+03, tolerance: 9.364e+00\n",
            "  model = cd_fast.enet_coordinate_descent(\n",
            "/usr/local/lib/python3.10/dist-packages/sklearn/linear_model/_coordinate_descent.py:631: ConvergenceWarning: Objective did not converge. You might want to increase the number of iterations, check the scale of the features or consider increasing regularisation. Duality gap: 8.468e+03, tolerance: 9.183e+00\n",
            "  model = cd_fast.enet_coordinate_descent(\n",
            "/usr/local/lib/python3.10/dist-packages/sklearn/linear_model/_coordinate_descent.py:631: ConvergenceWarning: Objective did not converge. You might want to increase the number of iterations, check the scale of the features or consider increasing regularisation. Duality gap: 9.407e+03, tolerance: 9.610e+00\n",
            "  model = cd_fast.enet_coordinate_descent(\n",
            "/usr/local/lib/python3.10/dist-packages/sklearn/linear_model/_coordinate_descent.py:631: ConvergenceWarning: Objective did not converge. You might want to increase the number of iterations, check the scale of the features or consider increasing regularisation. Duality gap: 3.377e+03, tolerance: 8.834e+00\n",
            "  model = cd_fast.enet_coordinate_descent(\n"
          ]
        },
        {
          "output_type": "stream",
          "name": "stdout",
          "text": [
            "KNN Best Parameters: {'n_neighbors': 9, 'weights': 'distance'}\n",
            "KNN Best R^2: 0.7323894940946765\n",
            "Ridge Best Parameters: {'alpha': 0.1}\n",
            "Ridge Best R^2: 0.7910528124238344\n",
            "Lasso Best Parameters: {'alpha': 0.01}\n",
            "Lasso Best R^2: 0.7909611663335858\n"
          ]
        },
        {
          "output_type": "stream",
          "name": "stderr",
          "text": [
            "/usr/local/lib/python3.10/dist-packages/sklearn/linear_model/_coordinate_descent.py:631: ConvergenceWarning: Objective did not converge. You might want to increase the number of iterations, check the scale of the features or consider increasing regularisation. Duality gap: 9.163e+03, tolerance: 9.574e+00\n",
            "  model = cd_fast.enet_coordinate_descent(\n",
            "/usr/local/lib/python3.10/dist-packages/sklearn/linear_model/_coordinate_descent.py:631: ConvergenceWarning: Objective did not converge. You might want to increase the number of iterations, check the scale of the features or consider increasing regularisation. Duality gap: 7.845e+03, tolerance: 9.364e+00\n",
            "  model = cd_fast.enet_coordinate_descent(\n",
            "/usr/local/lib/python3.10/dist-packages/sklearn/linear_model/_coordinate_descent.py:631: ConvergenceWarning: Objective did not converge. You might want to increase the number of iterations, check the scale of the features or consider increasing regularisation. Duality gap: 7.655e+03, tolerance: 9.183e+00\n",
            "  model = cd_fast.enet_coordinate_descent(\n",
            "/usr/local/lib/python3.10/dist-packages/sklearn/linear_model/_coordinate_descent.py:631: ConvergenceWarning: Objective did not converge. You might want to increase the number of iterations, check the scale of the features or consider increasing regularisation. Duality gap: 9.287e+03, tolerance: 9.610e+00\n",
            "  model = cd_fast.enet_coordinate_descent(\n",
            "/usr/local/lib/python3.10/dist-packages/sklearn/linear_model/_coordinate_descent.py:631: ConvergenceWarning: Objective did not converge. You might want to increase the number of iterations, check the scale of the features or consider increasing regularisation. Duality gap: 1.570e+02, tolerance: 8.834e+00\n",
            "  model = cd_fast.enet_coordinate_descent(\n",
            "/usr/local/lib/python3.10/dist-packages/sklearn/linear_model/_coordinate_descent.py:631: ConvergenceWarning: Objective did not converge. You might want to increase the number of iterations, check the scale of the features or consider increasing regularisation. Duality gap: 1.096e+03, tolerance: 9.183e+00\n",
            "  model = cd_fast.enet_coordinate_descent(\n",
            "/usr/local/lib/python3.10/dist-packages/sklearn/linear_model/_coordinate_descent.py:631: ConvergenceWarning: Objective did not converge. You might want to increase the number of iterations, check the scale of the features or consider increasing regularisation. Duality gap: 3.773e+03, tolerance: 9.610e+00\n",
            "  model = cd_fast.enet_coordinate_descent(\n",
            "/usr/local/lib/python3.10/dist-packages/sklearn/linear_model/_coordinate_descent.py:631: ConvergenceWarning: Objective did not converge. You might want to increase the number of iterations, check the scale of the features or consider increasing regularisation. Duality gap: 1.121e+04, tolerance: 1.165e+01\n",
            "  model = cd_fast.enet_coordinate_descent(\n"
          ]
        }
      ]
    },
    {
      "cell_type": "markdown",
      "source": [
        "**Does the result improve? **The result slightly improved for Ridge and Lasso regression, but significantly worsen for KNN regression."
      ],
      "metadata": {
        "id": "kSOLBixwe4f8"
      }
    },
    {
      "cell_type": "markdown",
      "source": [
        "1.5 Compare the coefficients of your two best linear models (not knn), do they agree on which features are important?"
      ],
      "metadata": {
        "id": "RShkmcZEfqWj"
      }
    },
    {
      "cell_type": "code",
      "source": [
        "data = {\n",
        "    'rg.coef_': [0.63674272, -0.34779468, -0.93134251, -10.48487388, -0.30906932, 1.44373493, 0.76367952, -0.61064469, 4.26710266, -3.33476317],\n",
        "    'lasso.coef_': [-0.0, -0.0, -0.0, -11.18837073, -0.0, 0.96796565, 0.20592308, -0.29396359, 3.80675589, -2.55047088]\n",
        "}\n",
        "\n",
        "index = ['enrltot', 'teachers', 'calwpct', 'mealpct', 'computer', 'compstu', 'expnstu', 'str', 'avginc', 'elpct']\n",
        "df = pd.DataFrame(data, index=index)\n",
        "\n",
        "print(df)\n"
      ],
      "metadata": {
        "colab": {
          "base_uri": "https://localhost:8080/"
        },
        "id": "MaSfiaqUhTOl",
        "outputId": "475394dc-30dd-4559-921e-73c94224551a"
      },
      "execution_count": null,
      "outputs": [
        {
          "output_type": "stream",
          "name": "stdout",
          "text": [
            "           rg.coef_  lasso.coef_\n",
            "enrltot    0.636743    -0.000000\n",
            "teachers  -0.347795    -0.000000\n",
            "calwpct   -0.931343    -0.000000\n",
            "mealpct  -10.484874   -11.188371\n",
            "computer  -0.309069    -0.000000\n",
            "compstu    1.443735     0.967966\n",
            "expnstu    0.763680     0.205923\n",
            "str       -0.610645    -0.293964\n",
            "avginc     4.267103     3.806756\n",
            "elpct     -3.334763    -2.550471\n"
          ]
        }
      ]
    },
    {
      "cell_type": "markdown",
      "source": [
        "For the Ridge regression and Lasso regression model with alpha=0.1, they do generally have similar proclivity in choosing features. For example, variable *mealpct*, percent qualifying for reduced-price lunch exhibited a strong negative coefficient. Whereas avginc, average income, has a positive coefficient (around 3-4). Percent of English teacher,elpct,also exhibit a small negative relationship with the target data."
      ],
      "metadata": {
        "id": "S3GYubnfh-mz"
      }
    },
    {
      "cell_type": "markdown",
      "source": [
        "1.6 Now that you have experimented with different models, discuss which final model you would choose to predict new data\n",
        "\n",
        "Numerical wise, ridge regression(alpha=0.1) has the highest r-square value. Also ridge regression is used when one has many features and wants to prevent overfitting. The regularization term helps to stabilize the model by reducing the impact of multicollinearity. Intuitive wise, lasso regression eliminated some of the features I deemed to be influential with the target data, therefore, it might be questionable to apply lasso regression.\n"
      ],
      "metadata": {
        "id": "n5aE3zA-oSeN"
      }
    }
  ]
}